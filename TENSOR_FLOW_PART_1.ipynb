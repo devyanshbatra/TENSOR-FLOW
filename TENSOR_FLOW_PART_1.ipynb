{
  "nbformat": 4,
  "nbformat_minor": 0,
  "metadata": {
    "colab": {
      "provenance": []
    },
    "kernelspec": {
      "name": "python3",
      "display_name": "Python 3"
    },
    "language_info": {
      "name": "python"
    }
  },
  "cells": [
    {
      "cell_type": "code",
      "execution_count": 1,
      "metadata": {
        "id": "M0XLqX2EfeyD"
      },
      "outputs": [],
      "source": [
        "import tensorflow as tf\n",
        "import numpy as np\n",
        "import matplotlib.pyplot as plt"
      ]
    },
    {
      "cell_type": "code",
      "source": [
        "print(tf.__version__)"
      ],
      "metadata": {
        "colab": {
          "base_uri": "https://localhost:8080/"
        },
        "id": "HwV8OTOvfp2k",
        "outputId": "b4eeee49-7c7c-4999-cecc-f8eca5a4017a"
      },
      "execution_count": null,
      "outputs": [
        {
          "output_type": "stream",
          "name": "stdout",
          "text": [
            "2.14.0\n"
          ]
        }
      ]
    },
    {
      "cell_type": "code",
      "source": [
        "scalar=tf.constant(7)\n",
        "scalar"
      ],
      "metadata": {
        "colab": {
          "base_uri": "https://localhost:8080/"
        },
        "id": "fen6AJ8Gf4RE",
        "outputId": "b9a04702-5e99-4ffe-aad8-fb9acd68f249"
      },
      "execution_count": null,
      "outputs": [
        {
          "output_type": "execute_result",
          "data": {
            "text/plain": [
              "<tf.Tensor: shape=(), dtype=int32, numpy=7>"
            ]
          },
          "metadata": {},
          "execution_count": 4
        }
      ]
    },
    {
      "cell_type": "code",
      "source": [
        "scalar.ndim"
      ],
      "metadata": {
        "colab": {
          "base_uri": "https://localhost:8080/"
        },
        "id": "yueJ2mWNyv-S",
        "outputId": "04cc2538-0323-4b34-dfeb-b932ee803280"
      },
      "execution_count": null,
      "outputs": [
        {
          "output_type": "execute_result",
          "data": {
            "text/plain": [
              "0"
            ]
          },
          "metadata": {},
          "execution_count": 5
        }
      ]
    },
    {
      "cell_type": "code",
      "source": [
        "vector=tf.constant([10,10,9])\n",
        "vector"
      ],
      "metadata": {
        "colab": {
          "base_uri": "https://localhost:8080/"
        },
        "id": "665mUKsazCb_",
        "outputId": "4bda402a-216a-42b3-9603-5b37566e7a75"
      },
      "execution_count": null,
      "outputs": [
        {
          "output_type": "execute_result",
          "data": {
            "text/plain": [
              "<tf.Tensor: shape=(3,), dtype=int32, numpy=array([10, 10,  9], dtype=int32)>"
            ]
          },
          "metadata": {},
          "execution_count": 6
        }
      ]
    },
    {
      "cell_type": "code",
      "source": [
        "matrix=tf.constant([[10,7],\n",
        "                    [17,18]])\n",
        "matrix"
      ],
      "metadata": {
        "colab": {
          "base_uri": "https://localhost:8080/"
        },
        "id": "SVaoD4VV1CUA",
        "outputId": "0f7f80e6-4d47-445e-c135-5340a75a8aa9"
      },
      "execution_count": null,
      "outputs": [
        {
          "output_type": "execute_result",
          "data": {
            "text/plain": [
              "<tf.Tensor: shape=(2, 2), dtype=int32, numpy=\n",
              "array([[10,  7],\n",
              "       [17, 18]], dtype=int32)>"
            ]
          },
          "metadata": {},
          "execution_count": 7
        }
      ]
    },
    {
      "cell_type": "code",
      "source": [
        "matrix_2=tf.constant([[10,11],\n",
        "                      [19,18]])\n",
        "matrix_2"
      ],
      "metadata": {
        "colab": {
          "base_uri": "https://localhost:8080/"
        },
        "id": "vyk9mqdl1LWK",
        "outputId": "7e43f5ab-f7fd-4341-a7e5-2088d9909892"
      },
      "execution_count": null,
      "outputs": [
        {
          "output_type": "execute_result",
          "data": {
            "text/plain": [
              "<tf.Tensor: shape=(2, 2), dtype=int32, numpy=\n",
              "array([[10, 11],\n",
              "       [19, 18]], dtype=int32)>"
            ]
          },
          "metadata": {},
          "execution_count": 11
        }
      ]
    },
    {
      "cell_type": "code",
      "source": [
        "changeable_tensor=tf.Variable([10,7])\n",
        "unchangeable_tensor=tf.constant([11,8])\n",
        "changeable_tensor,unchangeable_tensor"
      ],
      "metadata": {
        "id": "L2MGtxsg2BpO",
        "colab": {
          "base_uri": "https://localhost:8080/"
        },
        "outputId": "a76b4768-096a-45f1-802f-d5e8d9a48f5d"
      },
      "execution_count": null,
      "outputs": [
        {
          "output_type": "execute_result",
          "data": {
            "text/plain": [
              "(<tf.Variable 'Variable:0' shape=(2,) dtype=int32, numpy=array([10,  7], dtype=int32)>,\n",
              " <tf.Tensor: shape=(2,), dtype=int32, numpy=array([11,  8], dtype=int32)>)"
            ]
          },
          "metadata": {},
          "execution_count": 4
        }
      ]
    },
    {
      "cell_type": "code",
      "source": [
        "changeable_tensor[0].assign(7)\n",
        "changeable_tensor"
      ],
      "metadata": {
        "colab": {
          "base_uri": "https://localhost:8080/"
        },
        "id": "Zd1S5StjCaeM",
        "outputId": "0b8a4066-0c59-493c-a208-02ef086c6b0d"
      },
      "execution_count": null,
      "outputs": [
        {
          "output_type": "execute_result",
          "data": {
            "text/plain": [
              "<tf.Variable 'Variable:0' shape=(2,) dtype=int32, numpy=array([7, 7], dtype=int32)>"
            ]
          },
          "metadata": {},
          "execution_count": 5
        }
      ]
    },
    {
      "cell_type": "code",
      "source": [
        "x=np.array([-2,-6,-8,-9])"
      ],
      "metadata": {
        "id": "qLYTxbd0DnJk"
      },
      "execution_count": 3,
      "outputs": []
    },
    {
      "cell_type": "code",
      "source": [
        "x"
      ],
      "metadata": {
        "colab": {
          "base_uri": "https://localhost:8080/"
        },
        "id": "b9I-v4CyqPfT",
        "outputId": "d7bf5061-a691-4aee-9fac-aec47e559441"
      },
      "execution_count": null,
      "outputs": [
        {
          "output_type": "execute_result",
          "data": {
            "text/plain": [
              "array([-2, -6, -8, -9])"
            ]
          },
          "metadata": {},
          "execution_count": 5
        }
      ]
    },
    {
      "cell_type": "code",
      "source": [
        "y=np.array([-6,-5,-7,-3])\n",
        "y"
      ],
      "metadata": {
        "colab": {
          "base_uri": "https://localhost:8080/"
        },
        "id": "Gp19thccqUdx",
        "outputId": "60a97aa7-cc6d-4a76-8ee5-acaa2a740ca1"
      },
      "execution_count": 4,
      "outputs": [
        {
          "output_type": "execute_result",
          "data": {
            "text/plain": [
              "array([-6, -5, -7, -3])"
            ]
          },
          "metadata": {},
          "execution_count": 4
        }
      ]
    },
    {
      "cell_type": "code",
      "source": [
        "plt.scatter(x,y)"
      ],
      "metadata": {
        "colab": {
          "base_uri": "https://localhost:8080/",
          "height": 447
        },
        "id": "UfRgM3pvqZvi",
        "outputId": "6d18e598-baeb-4d28-d6ef-5d36b8c358a7"
      },
      "execution_count": null,
      "outputs": [
        {
          "output_type": "execute_result",
          "data": {
            "text/plain": [
              "<matplotlib.collections.PathCollection at 0x7b25f39f3ac0>"
            ]
          },
          "metadata": {},
          "execution_count": 8
        },
        {
          "output_type": "display_data",
          "data": {
            "text/plain": [
              "<Figure size 640x480 with 1 Axes>"
            ],
            "image/png": "[encoded data removed]"
          },
          "metadata": {}
        }
      ]
    },
    {
      "cell_type": "code",
      "source": [
        "y == x+10"
      ],
      "metadata": {
        "colab": {
          "base_uri": "https://localhost:8080/"
        },
        "id": "yUO0dRFQqtea",
        "outputId": "1027a868-047b-4776-d76b-f8acd3c2e1a9"
      },
      "execution_count": null,
      "outputs": [
        {
          "output_type": "execute_result",
          "data": {
            "text/plain": [
              "array([False, False, False, False])"
            ]
          },
          "metadata": {},
          "execution_count": 9
        }
      ]
    },
    {
      "cell_type": "code",
      "source": [
        "house_info=tf.constant([\"bedroom\",\"Hallway\",\"Bathroom\"])\n",
        "house_info"
      ],
      "metadata": {
        "colab": {
          "base_uri": "https://localhost:8080/"
        },
        "id": "OnaNnUyjqxK4",
        "outputId": "c63b1e0a-ac45-4642-d0c6-022ba97c39d2"
      },
      "execution_count": null,
      "outputs": [
        {
          "output_type": "execute_result",
          "data": {
            "text/plain": [
              "<tf.Tensor: shape=(3,), dtype=string, numpy=array([b'bedroom', b'Hallway', b'Bathroom'], dtype=object)>"
            ]
          },
          "metadata": {},
          "execution_count": 10
        }
      ]
    },
    {
      "cell_type": "code",
      "source": [
        "house_price=tf.constant([\"8900\",\"78787\",\"67585\"])\n",
        "house_price"
      ],
      "metadata": {
        "id": "douFGsDJ2i-1",
        "colab": {
          "base_uri": "https://localhost:8080/"
        },
        "outputId": "911a7227-37a9-44b2-cca6-d10333ce3751"
      },
      "execution_count": null,
      "outputs": [
        {
          "output_type": "execute_result",
          "data": {
            "text/plain": [
              "<tf.Tensor: shape=(3,), dtype=string, numpy=array([b'8900', b'78787', b'67585'], dtype=object)>"
            ]
          },
          "metadata": {},
          "execution_count": 3
        }
      ]
    },
    {
      "cell_type": "code",
      "source": [
        "x[0],y[0]"
      ],
      "metadata": {
        "colab": {
          "base_uri": "https://localhost:8080/"
        },
        "id": "k9tot8bgZZC8",
        "outputId": "3bf6b92a-ca67-4c39-d14b-b562f22e8a7b"
      },
      "execution_count": null,
      "outputs": [
        {
          "output_type": "execute_result",
          "data": {
            "text/plain": [
              "(-2, -6)"
            ]
          },
          "metadata": {},
          "execution_count": 8
        }
      ]
    },
    {
      "cell_type": "code",
      "source": [
        "input_shape=x[0].shape\n",
        "output_shape=y[0].shape"
      ],
      "metadata": {
        "id": "k5eLaaIRLfrC"
      },
      "execution_count": null,
      "outputs": []
    },
    {
      "cell_type": "code",
      "source": [
        "X=tf.constant(x)\n",
        "Y=tf.constant(y)\n",
        "X,Y"
      ],
      "metadata": {
        "colab": {
          "base_uri": "https://localhost:8080/"
        },
        "id": "WRI1wddTL0Ri",
        "outputId": "295ec49b-6599-466f-d278-12ea4ec14065"
      },
      "execution_count": 7,
      "outputs": [
        {
          "output_type": "execute_result",
          "data": {
            "text/plain": [
              "(<tf.Tensor: shape=(4,), dtype=int64, numpy=array([-2, -6, -8, -9])>,\n",
              " <tf.Tensor: shape=(4,), dtype=int64, numpy=array([-6, -5, -7, -3])>)"
            ]
          },
          "metadata": {},
          "execution_count": 7
        }
      ]
    },
    {
      "cell_type": "code",
      "source": [
        "x[3],y[3]"
      ],
      "metadata": {
        "colab": {
          "base_uri": "https://localhost:8080/"
        },
        "id": "gDAZgVrnZqgk",
        "outputId": "4c78192e-4848-4fb5-be6a-5fabaa857ec5"
      },
      "execution_count": null,
      "outputs": [
        {
          "output_type": "execute_result",
          "data": {
            "text/plain": [
              "(-9, -3)"
            ]
          },
          "metadata": {},
          "execution_count": 9
        }
      ]
    },
    {
      "cell_type": "code",
      "source": [
        "x[2]"
      ],
      "metadata": {
        "colab": {
          "base_uri": "https://localhost:8080/"
        },
        "id": "p35eqnpIZtbf",
        "outputId": "bcf9009a-1e44-4e1c-801c-7184705f3893"
      },
      "execution_count": null,
      "outputs": [
        {
          "output_type": "execute_result",
          "data": {
            "text/plain": [
              "-8"
            ]
          },
          "metadata": {},
          "execution_count": 11
        }
      ]
    },
    {
      "cell_type": "code",
      "source": [
        "tf.random.set_seed(42)\n",
        "model=tf.keras.Sequential([\n",
        "    tf.keras.layers.Dense(1)\n",
        "])\n",
        "model.compile(loss=tf.keras.losses.mae,\n",
        "              optimizer=tf.keras.optimizers.SGD(),\n",
        "              metrics=[\"mae\"])\n",
        "model.fit(tf.expand_dims(X, axis=-1), y, epochs=5)\n"
      ],
      "metadata": {
        "colab": {
          "base_uri": "https://localhost:8080/"
        },
        "id": "sdUadbXCKyWy",
        "outputId": "f311fa4a-141c-43c0-acdf-4adcfa50dbcf"
      },
      "execution_count": 8,
      "outputs": [
        {
          "output_type": "stream",
          "name": "stdout",
          "text": [
            "Epoch 1/5\n",
            "1/1 [==============================] - 1s 512ms/step - loss: 10.7846 - mae: 10.7846\n",
            "Epoch 2/5\n",
            "1/1 [==============================] - 0s 12ms/step - loss: 10.3839 - mae: 10.3839\n",
            "Epoch 3/5\n",
            "1/1 [==============================] - 0s 11ms/step - loss: 9.9833 - mae: 9.9833\n",
            "Epoch 4/5\n",
            "1/1 [==============================] - 0s 10ms/step - loss: 9.5827 - mae: 9.5827\n",
            "Epoch 5/5\n",
            "1/1 [==============================] - 0s 11ms/step - loss: 9.1821 - mae: 9.1821\n"
          ]
        },
        {
          "output_type": "execute_result",
          "data": {
            "text/plain": [
              "<keras.src.callbacks.History at 0x7e696c4ef520>"
            ]
          },
          "metadata": {},
          "execution_count": 8
        }
      ]
    },
    {
      "cell_type": "code",
      "source": [
        "tf.random.set_seed(42)\n",
        "model=tf.keras.Sequential([\n",
        "    tf.keras.layers.Dense(100),\n",
        "    tf.keras.layers.Dense(100),\n",
        "    tf.keras.layers.Dense(100),\n",
        "     tf.keras.layers.Dense(1)\n",
        "])\n",
        "model.compile(loss=tf.keras.losses.mae,\n",
        "              optimizer=tf.keras.optimizers.SGD(),\n",
        "              metrics=[\"mae\"])\n",
        "model.fit(tf.expand_dims(X, axis=-1), y, epochs=100)\n"
      ],
      "metadata": {
        "colab": {
          "base_uri": "https://localhost:8080/"
        },
        "id": "qx7GauniyKUM",
        "outputId": "402345d6-ceae-4aba-f535-e989c4129e2c"
      },
      "execution_count": 25,
      "outputs": [
        {
          "output_type": "stream",
          "name": "stdout",
          "text": [
            "Epoch 1/100\n",
            "1/1 [==============================] - 2s 2s/step - loss: 5.5274 - mae: 5.5274\n",
            "Epoch 2/100\n",
            "1/1 [==============================] - 0s 17ms/step - loss: 2.5861 - mae: 2.5861\n",
            "Epoch 3/100\n",
            "1/1 [==============================] - 0s 16ms/step - loss: 2.3202 - mae: 2.3202\n",
            "Epoch 4/100\n",
            "1/1 [==============================] - 0s 11ms/step - loss: 2.4750 - mae: 2.4750\n",
            "Epoch 5/100\n",
            "1/1 [==============================] - 0s 15ms/step - loss: 2.6128 - mae: 2.6128\n",
            "Epoch 6/100\n",
            "1/1 [==============================] - 0s 12ms/step - loss: 3.3949 - mae: 3.3949\n",
            "Epoch 7/100\n",
            "1/1 [==============================] - 0s 12ms/step - loss: 2.6997 - mae: 2.6997\n",
            "Epoch 8/100\n",
            "1/1 [==============================] - 0s 12ms/step - loss: 3.0883 - mae: 3.0883\n",
            "Epoch 9/100\n",
            "1/1 [==============================] - 0s 12ms/step - loss: 2.7902 - mae: 2.7902\n",
            "Epoch 10/100\n",
            "1/1 [==============================] - 0s 12ms/step - loss: 2.4749 - mae: 2.4749\n",
            "Epoch 11/100\n",
            "1/1 [==============================] - 0s 11ms/step - loss: 2.3717 - mae: 2.3717\n",
            "Epoch 12/100\n",
            "1/1 [==============================] - 0s 11ms/step - loss: 3.1093 - mae: 3.1093\n",
            "Epoch 13/100\n",
            "1/1 [==============================] - 0s 12ms/step - loss: 2.8281 - mae: 2.8281\n",
            "Epoch 14/100\n",
            "1/1 [==============================] - 0s 9ms/step - loss: 2.5313 - mae: 2.5313\n",
            "Epoch 15/100\n",
            "1/1 [==============================] - 0s 13ms/step - loss: 2.2492 - mae: 2.2492\n",
            "Epoch 16/100\n",
            "1/1 [==============================] - 0s 12ms/step - loss: 2.4379 - mae: 2.4379\n",
            "Epoch 17/100\n",
            "1/1 [==============================] - 0s 9ms/step - loss: 2.3516 - mae: 2.3516\n",
            "Epoch 18/100\n",
            "1/1 [==============================] - 0s 10ms/step - loss: 3.0441 - mae: 3.0441\n",
            "Epoch 19/100\n",
            "1/1 [==============================] - 0s 10ms/step - loss: 2.7752 - mae: 2.7752\n",
            "Epoch 20/100\n",
            "1/1 [==============================] - 0s 8ms/step - loss: 2.4905 - mae: 2.4905\n",
            "Epoch 21/100\n",
            "1/1 [==============================] - 0s 11ms/step - loss: 2.2389 - mae: 2.2389\n",
            "Epoch 22/100\n",
            "1/1 [==============================] - 0s 10ms/step - loss: 2.4000 - mae: 2.4000\n",
            "Epoch 23/100\n",
            "1/1 [==============================] - 0s 10ms/step - loss: 2.3433 - mae: 2.3433\n",
            "Epoch 24/100\n",
            "1/1 [==============================] - 0s 10ms/step - loss: 2.9820 - mae: 2.9820\n",
            "Epoch 25/100\n",
            "1/1 [==============================] - 0s 10ms/step - loss: 2.7235 - mae: 2.7235\n",
            "Epoch 26/100\n",
            "1/1 [==============================] - 0s 9ms/step - loss: 2.4490 - mae: 2.4490\n",
            "Epoch 27/100\n",
            "1/1 [==============================] - 0s 9ms/step - loss: 2.2310 - mae: 2.2310\n",
            "Epoch 28/100\n",
            "1/1 [==============================] - 0s 9ms/step - loss: 2.3608 - mae: 2.3608\n",
            "Epoch 29/100\n",
            "1/1 [==============================] - 0s 11ms/step - loss: 2.3459 - mae: 2.3459\n",
            "Epoch 30/100\n",
            "1/1 [==============================] - 0s 13ms/step - loss: 2.9221 - mae: 2.9221\n",
            "Epoch 31/100\n",
            "1/1 [==============================] - 0s 10ms/step - loss: 2.6725 - mae: 2.6725\n",
            "Epoch 32/100\n",
            "1/1 [==============================] - 0s 9ms/step - loss: 2.4066 - mae: 2.4066\n",
            "Epoch 33/100\n",
            "1/1 [==============================] - 0s 12ms/step - loss: 2.2254 - mae: 2.2254\n",
            "Epoch 34/100\n",
            "1/1 [==============================] - 0s 9ms/step - loss: 2.3202 - mae: 2.3202\n",
            "Epoch 35/100\n",
            "1/1 [==============================] - 0s 13ms/step - loss: 2.3586 - mae: 2.3586\n",
            "Epoch 36/100\n",
            "1/1 [==============================] - 0s 12ms/step - loss: 2.8640 - mae: 2.8640\n",
            "Epoch 37/100\n",
            "1/1 [==============================] - 0s 10ms/step - loss: 2.6218 - mae: 2.6218\n",
            "Epoch 38/100\n",
            "1/1 [==============================] - 0s 14ms/step - loss: 2.3631 - mae: 2.3631\n",
            "Epoch 39/100\n",
            "1/1 [==============================] - 0s 11ms/step - loss: 2.2218 - mae: 2.2218\n",
            "Epoch 40/100\n",
            "1/1 [==============================] - 0s 10ms/step - loss: 2.2781 - mae: 2.2781\n",
            "Epoch 41/100\n",
            "1/1 [==============================] - 0s 9ms/step - loss: 2.3809 - mae: 2.3809\n",
            "Epoch 42/100\n",
            "1/1 [==============================] - 0s 11ms/step - loss: 2.8070 - mae: 2.8070\n",
            "Epoch 43/100\n",
            "1/1 [==============================] - 0s 10ms/step - loss: 2.5710 - mae: 2.5710\n",
            "Epoch 44/100\n",
            "1/1 [==============================] - 0s 10ms/step - loss: 2.3182 - mae: 2.3182\n",
            "Epoch 45/100\n",
            "1/1 [==============================] - 0s 10ms/step - loss: 2.2202 - mae: 2.2202\n",
            "Epoch 46/100\n",
            "1/1 [==============================] - 0s 10ms/step - loss: 2.2342 - mae: 2.2342\n",
            "Epoch 47/100\n",
            "1/1 [==============================] - 0s 11ms/step - loss: 2.4124 - mae: 2.4124\n",
            "Epoch 48/100\n",
            "1/1 [==============================] - 0s 10ms/step - loss: 2.7507 - mae: 2.7507\n",
            "Epoch 49/100\n",
            "1/1 [==============================] - 0s 10ms/step - loss: 2.5198 - mae: 2.5198\n",
            "Epoch 50/100\n",
            "1/1 [==============================] - 0s 10ms/step - loss: 2.2718 - mae: 2.2718\n",
            "Epoch 51/100\n",
            "1/1 [==============================] - 0s 11ms/step - loss: 2.2204 - mae: 2.2204\n",
            "Epoch 52/100\n",
            "1/1 [==============================] - 0s 10ms/step - loss: 2.1884 - mae: 2.1884\n",
            "Epoch 53/100\n",
            "1/1 [==============================] - 0s 10ms/step - loss: 2.4528 - mae: 2.4528\n",
            "Epoch 54/100\n",
            "1/1 [==============================] - 0s 10ms/step - loss: 2.6947 - mae: 2.6947\n",
            "Epoch 55/100\n",
            "1/1 [==============================] - 0s 10ms/step - loss: 2.4679 - mae: 2.4679\n",
            "Epoch 56/100\n",
            "1/1 [==============================] - 0s 9ms/step - loss: 2.2236 - mae: 2.2236\n",
            "Epoch 57/100\n",
            "1/1 [==============================] - 0s 10ms/step - loss: 2.2656 - mae: 2.2656\n",
            "Epoch 58/100\n",
            "1/1 [==============================] - 0s 10ms/step - loss: 2.7079 - mae: 2.7079\n",
            "Epoch 59/100\n",
            "1/1 [==============================] - 0s 10ms/step - loss: 2.4890 - mae: 2.4890\n",
            "Epoch 60/100\n",
            "1/1 [==============================] - 0s 10ms/step - loss: 2.2535 - mae: 2.2535\n",
            "Epoch 61/100\n",
            "1/1 [==============================] - 0s 10ms/step - loss: 2.1768 - mae: 2.1768\n",
            "Epoch 62/100\n",
            "1/1 [==============================] - 0s 11ms/step - loss: 2.1726 - mae: 2.1726\n",
            "Epoch 63/100\n",
            "1/1 [==============================] - 0s 11ms/step - loss: 2.3271 - mae: 2.3271\n",
            "Epoch 64/100\n",
            "1/1 [==============================] - 0s 11ms/step - loss: 2.6506 - mae: 2.6506\n",
            "Epoch 65/100\n",
            "1/1 [==============================] - 0s 11ms/step - loss: 2.4341 - mae: 2.4341\n",
            "Epoch 66/100\n",
            "1/1 [==============================] - 0s 12ms/step - loss: 2.2006 - mae: 2.2006\n",
            "Epoch 67/100\n",
            "1/1 [==============================] - 0s 10ms/step - loss: 2.1831 - mae: 2.1831\n",
            "Epoch 68/100\n",
            "1/1 [==============================] - 0s 10ms/step - loss: 2.1195 - mae: 2.1195\n",
            "Epoch 69/100\n",
            "1/1 [==============================] - 0s 10ms/step - loss: 2.3963 - mae: 2.3963\n",
            "Epoch 70/100\n",
            "1/1 [==============================] - 0s 9ms/step - loss: 2.5929 - mae: 2.5929\n",
            "Epoch 71/100\n",
            "1/1 [==============================] - 0s 10ms/step - loss: 2.3780 - mae: 2.3780\n",
            "Epoch 72/100\n",
            "1/1 [==============================] - 0s 10ms/step - loss: 2.1456 - mae: 2.1456\n",
            "Epoch 73/100\n",
            "1/1 [==============================] - 0s 10ms/step - loss: 2.2429 - mae: 2.2429\n",
            "Epoch 74/100\n",
            "1/1 [==============================] - 0s 10ms/step - loss: 2.6019 - mae: 2.6019\n",
            "Epoch 75/100\n",
            "1/1 [==============================] - 0s 10ms/step - loss: 2.3930 - mae: 2.3930\n",
            "Epoch 76/100\n",
            "1/1 [==============================] - 0s 10ms/step - loss: 2.1674 - mae: 2.1674\n",
            "Epoch 77/100\n",
            "1/1 [==============================] - 0s 10ms/step - loss: 2.1522 - mae: 2.1522\n",
            "Epoch 78/100\n",
            "1/1 [==============================] - 0s 10ms/step - loss: 2.0873 - mae: 2.0873\n",
            "Epoch 79/100\n",
            "1/1 [==============================] - 0s 11ms/step - loss: 2.3300 - mae: 2.3300\n",
            "Epoch 80/100\n",
            "1/1 [==============================] - 0s 10ms/step - loss: 2.5421 - mae: 2.5421\n",
            "Epoch 81/100\n",
            "1/1 [==============================] - 0s 11ms/step - loss: 2.3335 - mae: 2.3335\n",
            "Epoch 82/100\n",
            "1/1 [==============================] - 0s 11ms/step - loss: 2.1076 - mae: 2.1076\n",
            "Epoch 83/100\n",
            "1/1 [==============================] - 0s 10ms/step - loss: 2.1974 - mae: 2.1974\n",
            "Epoch 84/100\n",
            "1/1 [==============================] - 0s 9ms/step - loss: 2.5479 - mae: 2.5479\n",
            "Epoch 85/100\n",
            "1/1 [==============================] - 0s 9ms/step - loss: 2.3443 - mae: 2.3443\n",
            "Epoch 86/100\n",
            "1/1 [==============================] - 0s 10ms/step - loss: 2.1239 - mae: 2.1239\n",
            "Epoch 87/100\n",
            "1/1 [==============================] - 0s 10ms/step - loss: 2.1290 - mae: 2.1290\n",
            "Epoch 88/100\n",
            "1/1 [==============================] - 0s 10ms/step - loss: 2.0441 - mae: 2.0441\n",
            "Epoch 89/100\n",
            "1/1 [==============================] - 0s 10ms/step - loss: 2.3009 - mae: 2.3009\n",
            "Epoch 90/100\n",
            "1/1 [==============================] - 0s 10ms/step - loss: 2.4856 - mae: 2.4856\n",
            "Epoch 91/100\n",
            "1/1 [==============================] - 0s 9ms/step - loss: 2.2811 - mae: 2.2811\n",
            "Epoch 92/100\n",
            "1/1 [==============================] - 0s 10ms/step - loss: 2.0592 - mae: 2.0592\n",
            "Epoch 93/100\n",
            "1/1 [==============================] - 0s 10ms/step - loss: 2.1857 - mae: 2.1857\n",
            "Epoch 94/100\n",
            "1/1 [==============================] - 0s 10ms/step - loss: 2.4885 - mae: 2.4885\n",
            "Epoch 95/100\n",
            "1/1 [==============================] - 0s 10ms/step - loss: 2.2881 - mae: 2.2881\n",
            "Epoch 96/100\n",
            "1/1 [==============================] - 0s 9ms/step - loss: 2.0707 - mae: 2.0707\n",
            "Epoch 97/100\n",
            "1/1 [==============================] - 0s 10ms/step - loss: 2.1124 - mae: 2.1124\n",
            "Epoch 98/100\n",
            "1/1 [==============================] - 0s 10ms/step - loss: 2.0060 - mae: 2.0060\n",
            "Epoch 99/100\n",
            "1/1 [==============================] - 0s 12ms/step - loss: 2.1384 - mae: 2.1384\n",
            "Epoch 100/100\n",
            "1/1 [==============================] - 0s 11ms/step - loss: 2.0508 - mae: 2.0508\n"
          ]
        },
        {
          "output_type": "execute_result",
          "data": {
            "text/plain": [
              "<keras.src.callbacks.History at 0x7e6964f5d150>"
            ]
          },
          "metadata": {},
          "execution_count": 25
        }
      ]
    },
    {
      "cell_type": "code",
      "source": [
        "model.predict([-10,0])"
      ],
      "metadata": {
        "colab": {
          "base_uri": "https://localhost:8080/"
        },
        "id": "4nPtJ1771VTh",
        "outputId": "064b54a6-0c6c-445a-8605-8b482be3db9f"
      },
      "execution_count": 24,
      "outputs": [
        {
          "output_type": "stream",
          "name": "stdout",
          "text": [
            "1/1 [==============================] - 0s 76ms/step\n"
          ]
        },
        {
          "output_type": "execute_result",
          "data": {
            "text/plain": [
              "array([[-7.313995  ],\n",
              "       [-0.17880973]], dtype=float32)"
            ]
          },
          "metadata": {},
          "execution_count": 24
        }
      ]
    },
    {
      "cell_type": "code",
      "source": [
        "tf.random.set_seed(42)\n",
        "model=tf.keras.Sequential([\n",
        "    tf.keras.layers.Dense(1)\n",
        "])\n",
        "model.compile(loss=tf.keras.losses.mae,\n",
        "              optimizer=tf.keras.optimizers.SGD(),\n",
        "              metrics=[\"mae\"])\n",
        "model.fit(tf.expand_dims(X, axis=-1), y, epochs=100)"
      ],
      "metadata": {
        "colab": {
          "base_uri": "https://localhost:8080/"
        },
        "id": "KgXOw9TzyTQE",
        "outputId": "4dc7120b-e92c-4fd3-ec5e-dac7cbf30b7f"
      },
      "execution_count": 10,
      "outputs": [
        {
          "output_type": "stream",
          "name": "stdout",
          "text": [
            "Epoch 1/100\n",
            "1/1 [==============================] - 0s 365ms/step - loss: 2.8962 - mae: 2.8962\n",
            "Epoch 2/100\n",
            "1/1 [==============================] - 0s 9ms/step - loss: 2.8631 - mae: 2.8631\n",
            "Epoch 3/100\n",
            "1/1 [==============================] - 0s 10ms/step - loss: 2.8300 - mae: 2.8300\n",
            "Epoch 4/100\n",
            "1/1 [==============================] - 0s 11ms/step - loss: 2.7969 - mae: 2.7969\n",
            "Epoch 5/100\n",
            "1/1 [==============================] - 0s 15ms/step - loss: 2.7637 - mae: 2.7637\n",
            "Epoch 6/100\n",
            "1/1 [==============================] - 0s 13ms/step - loss: 2.7306 - mae: 2.7306\n",
            "Epoch 7/100\n",
            "1/1 [==============================] - 0s 12ms/step - loss: 2.6975 - mae: 2.6975\n",
            "Epoch 8/100\n",
            "1/1 [==============================] - 0s 13ms/step - loss: 2.6644 - mae: 2.6644\n",
            "Epoch 9/100\n",
            "1/1 [==============================] - 0s 11ms/step - loss: 2.6312 - mae: 2.6312\n",
            "Epoch 10/100\n",
            "1/1 [==============================] - 0s 13ms/step - loss: 2.5981 - mae: 2.5981\n",
            "Epoch 11/100\n",
            "1/1 [==============================] - 0s 11ms/step - loss: 2.5650 - mae: 2.5650\n",
            "Epoch 12/100\n",
            "1/1 [==============================] - 0s 10ms/step - loss: 2.5319 - mae: 2.5319\n",
            "Epoch 13/100\n",
            "1/1 [==============================] - 0s 15ms/step - loss: 2.4987 - mae: 2.4987\n",
            "Epoch 14/100\n",
            "1/1 [==============================] - 0s 10ms/step - loss: 2.4656 - mae: 2.4656\n",
            "Epoch 15/100\n",
            "1/1 [==============================] - 0s 11ms/step - loss: 2.4325 - mae: 2.4325\n",
            "Epoch 16/100\n",
            "1/1 [==============================] - 0s 10ms/step - loss: 2.3994 - mae: 2.3994\n",
            "Epoch 17/100\n",
            "1/1 [==============================] - 0s 10ms/step - loss: 2.3662 - mae: 2.3662\n",
            "Epoch 18/100\n",
            "1/1 [==============================] - 0s 10ms/step - loss: 2.3331 - mae: 2.3331\n",
            "Epoch 19/100\n",
            "1/1 [==============================] - 0s 15ms/step - loss: 2.3000 - mae: 2.3000\n",
            "Epoch 20/100\n",
            "1/1 [==============================] - 0s 13ms/step - loss: 2.2755 - mae: 2.2755\n",
            "Epoch 21/100\n",
            "1/1 [==============================] - 0s 13ms/step - loss: 2.2887 - mae: 2.2887\n",
            "Epoch 22/100\n",
            "1/1 [==============================] - 0s 16ms/step - loss: 2.2817 - mae: 2.2817\n",
            "Epoch 23/100\n",
            "1/1 [==============================] - 0s 13ms/step - loss: 2.2775 - mae: 2.2775\n",
            "Epoch 24/100\n",
            "1/1 [==============================] - 0s 12ms/step - loss: 2.2880 - mae: 2.2880\n",
            "Epoch 25/100\n",
            "1/1 [==============================] - 0s 11ms/step - loss: 2.2723 - mae: 2.2723\n",
            "Epoch 26/100\n",
            "1/1 [==============================] - 0s 15ms/step - loss: 2.2881 - mae: 2.2881\n",
            "Epoch 27/100\n",
            "1/1 [==============================] - 0s 13ms/step - loss: 2.2786 - mae: 2.2786\n",
            "Epoch 28/100\n",
            "1/1 [==============================] - 0s 18ms/step - loss: 2.2769 - mae: 2.2769\n",
            "Epoch 29/100\n",
            "1/1 [==============================] - 0s 10ms/step - loss: 2.2848 - mae: 2.2848\n",
            "Epoch 30/100\n",
            "1/1 [==============================] - 0s 11ms/step - loss: 2.2692 - mae: 2.2692\n",
            "Epoch 31/100\n",
            "1/1 [==============================] - 0s 12ms/step - loss: 2.2875 - mae: 2.2875\n",
            "Epoch 32/100\n",
            "1/1 [==============================] - 0s 13ms/step - loss: 2.2755 - mae: 2.2755\n",
            "Epoch 33/100\n",
            "1/1 [==============================] - 0s 11ms/step - loss: 2.2762 - mae: 2.2762\n",
            "Epoch 34/100\n",
            "1/1 [==============================] - 0s 12ms/step - loss: 2.2817 - mae: 2.2817\n",
            "Epoch 35/100\n",
            "1/1 [==============================] - 0s 11ms/step - loss: 2.2661 - mae: 2.2661\n",
            "Epoch 36/100\n",
            "1/1 [==============================] - 0s 11ms/step - loss: 2.2869 - mae: 2.2869\n",
            "Epoch 37/100\n",
            "1/1 [==============================] - 0s 11ms/step - loss: 2.2723 - mae: 2.2723\n",
            "Epoch 38/100\n",
            "1/1 [==============================] - 0s 11ms/step - loss: 2.2756 - mae: 2.2756\n",
            "Epoch 39/100\n",
            "1/1 [==============================] - 0s 10ms/step - loss: 2.2786 - mae: 2.2786\n",
            "Epoch 40/100\n",
            "1/1 [==============================] - 0s 12ms/step - loss: 2.2644 - mae: 2.2644\n",
            "Epoch 41/100\n",
            "1/1 [==============================] - 0s 11ms/step - loss: 2.2848 - mae: 2.2848\n",
            "Epoch 42/100\n",
            "1/1 [==============================] - 0s 11ms/step - loss: 2.2692 - mae: 2.2692\n",
            "Epoch 43/100\n",
            "1/1 [==============================] - 0s 15ms/step - loss: 2.2750 - mae: 2.2750\n",
            "Epoch 44/100\n",
            "1/1 [==============================] - 0s 11ms/step - loss: 2.2755 - mae: 2.2755\n",
            "Epoch 45/100\n",
            "1/1 [==============================] - 0s 11ms/step - loss: 2.2637 - mae: 2.2637\n",
            "Epoch 46/100\n",
            "1/1 [==============================] - 0s 11ms/step - loss: 2.2817 - mae: 2.2817\n",
            "Epoch 47/100\n",
            "1/1 [==============================] - 0s 11ms/step - loss: 2.2661 - mae: 2.2661\n",
            "Epoch 48/100\n",
            "1/1 [==============================] - 0s 12ms/step - loss: 2.2744 - mae: 2.2744\n",
            "Epoch 49/100\n",
            "1/1 [==============================] - 0s 15ms/step - loss: 2.2723 - mae: 2.2723\n",
            "Epoch 50/100\n",
            "1/1 [==============================] - 0s 11ms/step - loss: 2.2631 - mae: 2.2631\n",
            "Epoch 51/100\n",
            "1/1 [==============================] - 0s 11ms/step - loss: 2.2786 - mae: 2.2786\n",
            "Epoch 52/100\n",
            "1/1 [==============================] - 0s 16ms/step - loss: 2.2630 - mae: 2.2630\n",
            "Epoch 53/100\n",
            "1/1 [==============================] - 0s 14ms/step - loss: 2.2737 - mae: 2.2737\n",
            "Epoch 54/100\n",
            "1/1 [==============================] - 0s 12ms/step - loss: 2.2692 - mae: 2.2692\n",
            "Epoch 55/100\n",
            "1/1 [==============================] - 0s 11ms/step - loss: 2.2625 - mae: 2.2625\n",
            "Epoch 56/100\n",
            "1/1 [==============================] - 0s 12ms/step - loss: 2.2755 - mae: 2.2755\n",
            "Epoch 57/100\n",
            "1/1 [==============================] - 0s 10ms/step - loss: 2.2598 - mae: 2.2598\n",
            "Epoch 58/100\n",
            "1/1 [==============================] - 0s 10ms/step - loss: 2.2731 - mae: 2.2731\n",
            "Epoch 59/100\n",
            "1/1 [==============================] - 0s 11ms/step - loss: 2.2661 - mae: 2.2661\n",
            "Epoch 60/100\n",
            "1/1 [==============================] - 0s 10ms/step - loss: 2.2619 - mae: 2.2619\n",
            "Epoch 61/100\n",
            "1/1 [==============================] - 0s 11ms/step - loss: 2.2723 - mae: 2.2723\n",
            "Epoch 62/100\n",
            "1/1 [==============================] - 0s 10ms/step - loss: 2.2567 - mae: 2.2567\n",
            "Epoch 63/100\n",
            "1/1 [==============================] - 0s 10ms/step - loss: 2.2725 - mae: 2.2725\n",
            "Epoch 64/100\n",
            "1/1 [==============================] - 0s 11ms/step - loss: 2.2630 - mae: 2.2630\n",
            "Epoch 65/100\n",
            "1/1 [==============================] - 0s 11ms/step - loss: 2.2612 - mae: 2.2612\n",
            "Epoch 66/100\n",
            "1/1 [==============================] - 0s 12ms/step - loss: 2.2692 - mae: 2.2692\n",
            "Epoch 67/100\n",
            "1/1 [==============================] - 0s 11ms/step - loss: 2.2536 - mae: 2.2536\n",
            "Epoch 68/100\n",
            "1/1 [==============================] - 0s 11ms/step - loss: 2.2719 - mae: 2.2719\n",
            "Epoch 69/100\n",
            "1/1 [==============================] - 0s 11ms/step - loss: 2.2598 - mae: 2.2598\n",
            "Epoch 70/100\n",
            "1/1 [==============================] - 0s 12ms/step - loss: 2.2606 - mae: 2.2606\n",
            "Epoch 71/100\n",
            "1/1 [==============================] - 0s 10ms/step - loss: 2.2661 - mae: 2.2661\n",
            "Epoch 72/100\n",
            "1/1 [==============================] - 0s 11ms/step - loss: 2.2505 - mae: 2.2505\n",
            "Epoch 73/100\n",
            "1/1 [==============================] - 0s 11ms/step - loss: 2.2712 - mae: 2.2712\n",
            "Epoch 74/100\n",
            "1/1 [==============================] - 0s 10ms/step - loss: 2.2567 - mae: 2.2567\n",
            "Epoch 75/100\n",
            "1/1 [==============================] - 0s 11ms/step - loss: 2.2600 - mae: 2.2600\n",
            "Epoch 76/100\n",
            "1/1 [==============================] - 0s 10ms/step - loss: 2.2630 - mae: 2.2630\n",
            "Epoch 77/100\n",
            "1/1 [==============================] - 0s 10ms/step - loss: 2.2487 - mae: 2.2487\n",
            "Epoch 78/100\n",
            "1/1 [==============================] - 0s 10ms/step - loss: 2.2692 - mae: 2.2692\n",
            "Epoch 79/100\n",
            "1/1 [==============================] - 0s 10ms/step - loss: 2.2536 - mae: 2.2536\n",
            "Epoch 80/100\n",
            "1/1 [==============================] - 0s 11ms/step - loss: 2.2594 - mae: 2.2594\n",
            "Epoch 81/100\n",
            "1/1 [==============================] - 0s 10ms/step - loss: 2.2598 - mae: 2.2598\n",
            "Epoch 82/100\n",
            "1/1 [==============================] - 0s 11ms/step - loss: 2.2481 - mae: 2.2481\n",
            "Epoch 83/100\n",
            "1/1 [==============================] - 0s 11ms/step - loss: 2.2661 - mae: 2.2661\n",
            "Epoch 84/100\n",
            "1/1 [==============================] - 0s 14ms/step - loss: 2.2505 - mae: 2.2505\n",
            "Epoch 85/100\n",
            "1/1 [==============================] - 0s 14ms/step - loss: 2.2587 - mae: 2.2587\n",
            "Epoch 86/100\n",
            "1/1 [==============================] - 0s 13ms/step - loss: 2.2567 - mae: 2.2567\n",
            "Epoch 87/100\n",
            "1/1 [==============================] - 0s 13ms/step - loss: 2.2475 - mae: 2.2475\n",
            "Epoch 88/100\n",
            "1/1 [==============================] - 0s 11ms/step - loss: 2.2630 - mae: 2.2630\n",
            "Epoch 89/100\n",
            "1/1 [==============================] - 0s 10ms/step - loss: 2.2473 - mae: 2.2473\n",
            "Epoch 90/100\n",
            "1/1 [==============================] - 0s 11ms/step - loss: 2.2581 - mae: 2.2581\n",
            "Epoch 91/100\n",
            "1/1 [==============================] - 0s 11ms/step - loss: 2.2536 - mae: 2.2536\n",
            "Epoch 92/100\n",
            "1/1 [==============================] - 0s 10ms/step - loss: 2.2469 - mae: 2.2469\n",
            "Epoch 93/100\n",
            "1/1 [==============================] - 0s 10ms/step - loss: 2.2598 - mae: 2.2598\n",
            "Epoch 94/100\n",
            "1/1 [==============================] - 0s 10ms/step - loss: 2.2442 - mae: 2.2442\n",
            "Epoch 95/100\n",
            "1/1 [==============================] - 0s 11ms/step - loss: 2.2575 - mae: 2.2575\n",
            "Epoch 96/100\n",
            "1/1 [==============================] - 0s 11ms/step - loss: 2.2505 - mae: 2.2505\n",
            "Epoch 97/100\n",
            "1/1 [==============================] - 0s 10ms/step - loss: 2.2462 - mae: 2.2462\n",
            "Epoch 98/100\n",
            "1/1 [==============================] - 0s 10ms/step - loss: 2.2567 - mae: 2.2567\n",
            "Epoch 99/100\n",
            "1/1 [==============================] - 0s 10ms/step - loss: 2.2411 - mae: 2.2411\n",
            "Epoch 100/100\n",
            "1/1 [==============================] - 0s 10ms/step - loss: 2.2569 - mae: 2.2569\n"
          ]
        },
        {
          "output_type": "execute_result",
          "data": {
            "text/plain": [
              "<keras.src.callbacks.History at 0x7e6967735990>"
            ]
          },
          "metadata": {},
          "execution_count": 10
        }
      ]
    },
    {
      "cell_type": "code",
      "source": [
        "tf.random.set_seed(42)\n",
        "model = tf.keras.Sequential([\n",
        "  tf.keras.layers.Dense(1),\n",
        "  tf.keras.layers.Dense(1)\n",
        "])\n",
        "model.compile(loss=tf.keras.losses.mae,\n",
        "              optimizer=tf.keras.optimizers.SGD(),\n",
        "              metrics=[\"mae\"])\n",
        "model.fit(tf.expand_dims(X, axis=-1), y, epochs=100)"
      ],
      "metadata": {
        "colab": {
          "base_uri": "https://localhost:8080/"
        },
        "id": "c_bCmdibwvxg",
        "outputId": "c5b03c56-8708-4a02-efc9-ee0ab02d4c12"
      },
      "execution_count": 20,
      "outputs": [
        {
          "output_type": "stream",
          "name": "stdout",
          "text": [
            "Epoch 1/100\n",
            "1/1 [==============================] - 1s 683ms/step - loss: 2.8000 - mae: 2.8000\n",
            "Epoch 2/100\n",
            "1/1 [==============================] - 0s 9ms/step - loss: 2.7584 - mae: 2.7584\n",
            "Epoch 3/100\n",
            "1/1 [==============================] - 0s 9ms/step - loss: 2.7156 - mae: 2.7156\n",
            "Epoch 4/100\n",
            "1/1 [==============================] - 0s 8ms/step - loss: 2.6715 - mae: 2.6715\n",
            "Epoch 5/100\n",
            "1/1 [==============================] - 0s 8ms/step - loss: 2.6259 - mae: 2.6259\n",
            "Epoch 6/100\n",
            "1/1 [==============================] - 0s 8ms/step - loss: 2.5790 - mae: 2.5790\n",
            "Epoch 7/100\n",
            "1/1 [==============================] - 0s 12ms/step - loss: 2.5305 - mae: 2.5305\n",
            "Epoch 8/100\n",
            "1/1 [==============================] - 0s 12ms/step - loss: 2.4804 - mae: 2.4804\n",
            "Epoch 9/100\n",
            "1/1 [==============================] - 0s 12ms/step - loss: 2.4287 - mae: 2.4287\n",
            "Epoch 10/100\n",
            "1/1 [==============================] - 0s 12ms/step - loss: 2.3753 - mae: 2.3753\n",
            "Epoch 11/100\n",
            "1/1 [==============================] - 0s 12ms/step - loss: 2.3202 - mae: 2.3202\n",
            "Epoch 12/100\n",
            "1/1 [==============================] - 0s 12ms/step - loss: 2.2722 - mae: 2.2722\n",
            "Epoch 13/100\n",
            "1/1 [==============================] - 0s 12ms/step - loss: 2.3007 - mae: 2.3007\n",
            "Epoch 14/100\n",
            "1/1 [==============================] - 0s 12ms/step - loss: 2.2827 - mae: 2.2827\n",
            "Epoch 15/100\n",
            "1/1 [==============================] - 0s 9ms/step - loss: 2.2810 - mae: 2.2810\n",
            "Epoch 16/100\n",
            "1/1 [==============================] - 0s 10ms/step - loss: 2.2933 - mae: 2.2933\n",
            "Epoch 17/100\n",
            "1/1 [==============================] - 0s 9ms/step - loss: 2.2663 - mae: 2.2663\n",
            "Epoch 18/100\n",
            "1/1 [==============================] - 0s 10ms/step - loss: 2.2984 - mae: 2.2984\n",
            "Epoch 19/100\n",
            "1/1 [==============================] - 0s 11ms/step - loss: 2.2768 - mae: 2.2768\n",
            "Epoch 20/100\n",
            "1/1 [==============================] - 0s 11ms/step - loss: 2.2787 - mae: 2.2787\n",
            "Epoch 21/100\n",
            "1/1 [==============================] - 0s 9ms/step - loss: 2.2874 - mae: 2.2874\n",
            "Epoch 22/100\n",
            "1/1 [==============================] - 0s 9ms/step - loss: 2.2605 - mae: 2.2605\n",
            "Epoch 23/100\n",
            "1/1 [==============================] - 0s 12ms/step - loss: 2.2959 - mae: 2.2959\n",
            "Epoch 24/100\n",
            "1/1 [==============================] - 0s 10ms/step - loss: 2.2710 - mae: 2.2710\n",
            "Epoch 25/100\n",
            "1/1 [==============================] - 0s 9ms/step - loss: 2.2762 - mae: 2.2762\n",
            "Epoch 26/100\n",
            "1/1 [==============================] - 0s 9ms/step - loss: 2.2817 - mae: 2.2817\n",
            "Epoch 27/100\n",
            "1/1 [==============================] - 0s 9ms/step - loss: 2.2562 - mae: 2.2562\n",
            "Epoch 28/100\n",
            "1/1 [==============================] - 0s 12ms/step - loss: 2.2925 - mae: 2.2925\n",
            "Epoch 29/100\n",
            "1/1 [==============================] - 0s 8ms/step - loss: 2.2654 - mae: 2.2654\n",
            "Epoch 30/100\n",
            "1/1 [==============================] - 0s 11ms/step - loss: 2.2735 - mae: 2.2735\n",
            "Epoch 31/100\n",
            "1/1 [==============================] - 0s 8ms/step - loss: 2.2760 - mae: 2.2760\n",
            "Epoch 32/100\n",
            "1/1 [==============================] - 0s 8ms/step - loss: 2.2536 - mae: 2.2536\n",
            "Epoch 33/100\n",
            "1/1 [==============================] - 0s 8ms/step - loss: 2.2868 - mae: 2.2868\n",
            "Epoch 34/100\n",
            "1/1 [==============================] - 0s 8ms/step - loss: 2.2599 - mae: 2.2599\n",
            "Epoch 35/100\n",
            "1/1 [==============================] - 0s 8ms/step - loss: 2.2707 - mae: 2.2707\n",
            "Epoch 36/100\n",
            "1/1 [==============================] - 0s 8ms/step - loss: 2.2705 - mae: 2.2705\n",
            "Epoch 37/100\n",
            "1/1 [==============================] - 0s 12ms/step - loss: 2.2508 - mae: 2.2508\n",
            "Epoch 38/100\n",
            "1/1 [==============================] - 0s 13ms/step - loss: 2.2813 - mae: 2.2813\n",
            "Epoch 39/100\n",
            "1/1 [==============================] - 0s 13ms/step - loss: 2.2545 - mae: 2.2545\n",
            "Epoch 40/100\n",
            "1/1 [==============================] - 0s 12ms/step - loss: 2.2678 - mae: 2.2678\n",
            "Epoch 41/100\n",
            "1/1 [==============================] - 0s 10ms/step - loss: 2.2652 - mae: 2.2652\n",
            "Epoch 42/100\n",
            "1/1 [==============================] - 0s 8ms/step - loss: 2.2478 - mae: 2.2478\n",
            "Epoch 43/100\n",
            "1/1 [==============================] - 0s 8ms/step - loss: 2.2759 - mae: 2.2759\n",
            "Epoch 44/100\n",
            "1/1 [==============================] - 0s 12ms/step - loss: 2.2492 - mae: 2.2492\n",
            "Epoch 45/100\n",
            "1/1 [==============================] - 0s 7ms/step - loss: 2.2646 - mae: 2.2646\n",
            "Epoch 46/100\n",
            "1/1 [==============================] - 0s 10ms/step - loss: 2.2599 - mae: 2.2599\n",
            "Epoch 47/100\n",
            "1/1 [==============================] - 0s 11ms/step - loss: 2.2446 - mae: 2.2446\n",
            "Epoch 48/100\n",
            "1/1 [==============================] - 0s 8ms/step - loss: 2.2707 - mae: 2.2707\n",
            "Epoch 49/100\n",
            "1/1 [==============================] - 0s 10ms/step - loss: 2.2441 - mae: 2.2441\n",
            "Epoch 50/100\n",
            "1/1 [==============================] - 0s 12ms/step - loss: 2.2614 - mae: 2.2614\n",
            "Epoch 51/100\n",
            "1/1 [==============================] - 0s 10ms/step - loss: 2.2548 - mae: 2.2548\n",
            "Epoch 52/100\n",
            "1/1 [==============================] - 0s 9ms/step - loss: 2.2414 - mae: 2.2414\n",
            "Epoch 53/100\n",
            "1/1 [==============================] - 0s 11ms/step - loss: 2.2656 - mae: 2.2656\n",
            "Epoch 54/100\n",
            "1/1 [==============================] - 0s 10ms/step - loss: 2.2391 - mae: 2.2391\n",
            "Epoch 55/100\n",
            "1/1 [==============================] - 0s 8ms/step - loss: 2.2580 - mae: 2.2580\n",
            "Epoch 56/100\n",
            "1/1 [==============================] - 0s 8ms/step - loss: 2.2498 - mae: 2.2498\n",
            "Epoch 57/100\n",
            "1/1 [==============================] - 0s 10ms/step - loss: 2.2379 - mae: 2.2379\n",
            "Epoch 58/100\n",
            "1/1 [==============================] - 0s 10ms/step - loss: 2.2606 - mae: 2.2606\n",
            "Epoch 59/100\n",
            "1/1 [==============================] - 0s 7ms/step - loss: 2.2342 - mae: 2.2342\n",
            "Epoch 60/100\n",
            "1/1 [==============================] - 0s 13ms/step - loss: 2.2544 - mae: 2.2544\n",
            "Epoch 61/100\n",
            "1/1 [==============================] - 0s 11ms/step - loss: 2.2449 - mae: 2.2449\n",
            "Epoch 62/100\n",
            "1/1 [==============================] - 0s 9ms/step - loss: 2.2343 - mae: 2.2343\n",
            "Epoch 63/100\n",
            "1/1 [==============================] - 0s 12ms/step - loss: 2.2557 - mae: 2.2557\n",
            "Epoch 64/100\n",
            "1/1 [==============================] - 0s 8ms/step - loss: 2.2294 - mae: 2.2294\n",
            "Epoch 65/100\n",
            "1/1 [==============================] - 0s 8ms/step - loss: 2.2507 - mae: 2.2507\n",
            "Epoch 66/100\n",
            "1/1 [==============================] - 0s 8ms/step - loss: 2.2401 - mae: 2.2401\n",
            "Epoch 67/100\n",
            "1/1 [==============================] - 0s 8ms/step - loss: 2.2306 - mae: 2.2306\n",
            "Epoch 68/100\n",
            "1/1 [==============================] - 0s 10ms/step - loss: 2.2509 - mae: 2.2509\n",
            "Epoch 69/100\n",
            "1/1 [==============================] - 0s 8ms/step - loss: 2.2247 - mae: 2.2247\n",
            "Epoch 70/100\n",
            "1/1 [==============================] - 0s 8ms/step - loss: 2.2468 - mae: 2.2468\n",
            "Epoch 71/100\n",
            "1/1 [==============================] - 0s 10ms/step - loss: 2.2354 - mae: 2.2354\n",
            "Epoch 72/100\n",
            "1/1 [==============================] - 0s 7ms/step - loss: 2.2267 - mae: 2.2267\n",
            "Epoch 73/100\n",
            "1/1 [==============================] - 0s 11ms/step - loss: 2.2463 - mae: 2.2463\n",
            "Epoch 74/100\n",
            "1/1 [==============================] - 0s 8ms/step - loss: 2.2202 - mae: 2.2202\n",
            "Epoch 75/100\n",
            "1/1 [==============================] - 0s 10ms/step - loss: 2.2428 - mae: 2.2428\n",
            "Epoch 76/100\n",
            "1/1 [==============================] - 0s 8ms/step - loss: 2.2309 - mae: 2.2309\n",
            "Epoch 77/100\n",
            "1/1 [==============================] - 0s 8ms/step - loss: 2.2226 - mae: 2.2226\n",
            "Epoch 78/100\n",
            "1/1 [==============================] - 0s 11ms/step - loss: 2.2417 - mae: 2.2417\n",
            "Epoch 79/100\n",
            "1/1 [==============================] - 0s 8ms/step - loss: 2.2158 - mae: 2.2158\n",
            "Epoch 80/100\n",
            "1/1 [==============================] - 0s 10ms/step - loss: 2.2386 - mae: 2.2386\n",
            "Epoch 81/100\n",
            "1/1 [==============================] - 0s 10ms/step - loss: 2.2265 - mae: 2.2265\n",
            "Epoch 82/100\n",
            "1/1 [==============================] - 0s 10ms/step - loss: 2.2184 - mae: 2.2184\n",
            "Epoch 83/100\n",
            "1/1 [==============================] - 0s 10ms/step - loss: 2.2373 - mae: 2.2373\n",
            "Epoch 84/100\n",
            "1/1 [==============================] - 0s 9ms/step - loss: 2.2114 - mae: 2.2114\n",
            "Epoch 85/100\n",
            "1/1 [==============================] - 0s 8ms/step - loss: 2.2343 - mae: 2.2343\n",
            "Epoch 86/100\n",
            "1/1 [==============================] - 0s 8ms/step - loss: 2.2221 - mae: 2.2221\n",
            "Epoch 87/100\n",
            "1/1 [==============================] - 0s 8ms/step - loss: 2.2140 - mae: 2.2140\n",
            "Epoch 88/100\n",
            "1/1 [==============================] - 0s 8ms/step - loss: 2.2330 - mae: 2.2330\n",
            "Epoch 89/100\n",
            "1/1 [==============================] - 0s 10ms/step - loss: 2.2072 - mae: 2.2072\n",
            "Epoch 90/100\n",
            "1/1 [==============================] - 0s 9ms/step - loss: 2.2298 - mae: 2.2298\n",
            "Epoch 91/100\n",
            "1/1 [==============================] - 0s 9ms/step - loss: 2.2179 - mae: 2.2179\n",
            "Epoch 92/100\n",
            "1/1 [==============================] - 0s 9ms/step - loss: 2.2095 - mae: 2.2095\n",
            "Epoch 93/100\n",
            "1/1 [==============================] - 0s 8ms/step - loss: 2.2288 - mae: 2.2288\n",
            "Epoch 94/100\n",
            "1/1 [==============================] - 0s 9ms/step - loss: 2.2031 - mae: 2.2031\n",
            "Epoch 95/100\n",
            "1/1 [==============================] - 0s 9ms/step - loss: 2.2252 - mae: 2.2252\n",
            "Epoch 96/100\n",
            "1/1 [==============================] - 0s 9ms/step - loss: 2.2138 - mae: 2.2138\n",
            "Epoch 97/100\n",
            "1/1 [==============================] - 0s 12ms/step - loss: 2.2048 - mae: 2.2048\n",
            "Epoch 98/100\n",
            "1/1 [==============================] - 0s 12ms/step - loss: 2.2247 - mae: 2.2247\n",
            "Epoch 99/100\n",
            "1/1 [==============================] - 0s 16ms/step - loss: 2.1991 - mae: 2.1991\n",
            "Epoch 100/100\n",
            "1/1 [==============================] - 0s 12ms/step - loss: 2.2204 - mae: 2.2204\n"
          ]
        },
        {
          "output_type": "execute_result",
          "data": {
            "text/plain": [
              "<keras.src.callbacks.History at 0x7e6965958490>"
            ]
          },
          "metadata": {},
          "execution_count": 20
        }
      ]
    },
    {
      "cell_type": "code",
      "source": [
        "x,y"
      ],
      "metadata": {
        "colab": {
          "base_uri": "https://localhost:8080/"
        },
        "id": "aoGj7VDyyYTS",
        "outputId": "2c01ac0d-0fc5-43ad-e3f6-dafb485f2bb0"
      },
      "execution_count": 12,
      "outputs": [
        {
          "output_type": "execute_result",
          "data": {
            "text/plain": [
              "(array([-2, -6, -8, -9]), array([-6, -5, -7, -3]))"
            ]
          },
          "metadata": {},
          "execution_count": 12
        }
      ]
    },
    {
      "cell_type": "code",
      "source": [
        "model.predict([-10,0])"
      ],
      "metadata": {
        "colab": {
          "base_uri": "https://localhost:8080/"
        },
        "id": "SSt4t2_7yexJ",
        "outputId": "62550601-36ba-4a5f-a041-d4dc9e18bea6"
      },
      "execution_count": 14,
      "outputs": [
        {
          "output_type": "stream",
          "name": "stdout",
          "text": [
            "1/1 [==============================] - 0s 36ms/step\n"
          ]
        },
        {
          "output_type": "execute_result",
          "data": {
            "text/plain": [
              "array([[-8.238363 ],\n",
              "       [-0.2499999]], dtype=float32)"
            ]
          },
          "metadata": {},
          "execution_count": 14
        }
      ]
    },
    {
      "cell_type": "code",
      "source": [
        "x_new=tf.range(-100,100,3)\n",
        "x_new"
      ],
      "metadata": {
        "colab": {
          "base_uri": "https://localhost:8080/"
        },
        "id": "j9uYnI4f2G93",
        "outputId": "5a8f047c-6164-4aaf-8d77-b313394f084a"
      },
      "execution_count": 26,
      "outputs": [
        {
          "output_type": "execute_result",
          "data": {
            "text/plain": [
              "<tf.Tensor: shape=(67,), dtype=int32, numpy=\n",
              "array([-100,  -97,  -94,  -91,  -88,  -85,  -82,  -79,  -76,  -73,  -70,\n",
              "        -67,  -64,  -61,  -58,  -55,  -52,  -49,  -46,  -43,  -40,  -37,\n",
              "        -34,  -31,  -28,  -25,  -22,  -19,  -16,  -13,  -10,   -7,   -4,\n",
              "         -1,    2,    5,    8,   11,   14,   17,   20,   23,   26,   29,\n",
              "         32,   35,   38,   41,   44,   47,   50,   53,   56,   59,   62,\n",
              "         65,   68,   71,   74,   77,   80,   83,   86,   89,   92,   95,\n",
              "         98], dtype=int32)>"
            ]
          },
          "metadata": {},
          "execution_count": 26
        }
      ]
    },
    {
      "cell_type": "code",
      "source": [
        "y_new=x_new+10\n",
        "y_new"
      ],
      "metadata": {
        "colab": {
          "base_uri": "https://localhost:8080/"
        },
        "id": "7NYNS_Zt9mWT",
        "outputId": "67e822f8-5b8e-4ab2-cb1f-e2d97589d695"
      },
      "execution_count": 28,
      "outputs": [
        {
          "output_type": "execute_result",
          "data": {
            "text/plain": [
              "<tf.Tensor: shape=(67,), dtype=int32, numpy=\n",
              "array([-90, -87, -84, -81, -78, -75, -72, -69, -66, -63, -60, -57, -54,\n",
              "       -51, -48, -45, -42, -39, -36, -33, -30, -27, -24, -21, -18, -15,\n",
              "       -12,  -9,  -6,  -3,   0,   3,   6,   9,  12,  15,  18,  21,  24,\n",
              "        27,  30,  33,  36,  39,  42,  45,  48,  51,  54,  57,  60,  63,\n",
              "        66,  69,  72,  75,  78,  81,  84,  87,  90,  93,  96,  99, 102,\n",
              "       105, 108], dtype=int32)>"
            ]
          },
          "metadata": {},
          "execution_count": 28
        }
      ]
    },
    {
      "cell_type": "code",
      "source": [
        "plt.scatter(x_new,y_new)"
      ],
      "metadata": {
        "colab": {
          "base_uri": "https://localhost:8080/",
          "height": 447
        },
        "id": "hRPVWd-p9u4i",
        "outputId": "374b8296-1e3b-4882-fdc7-0a568c719a71"
      },
      "execution_count": 29,
      "outputs": [
        {
          "output_type": "execute_result",
          "data": {
            "text/plain": [
              "<matplotlib.collections.PathCollection at 0x7e6959cbf9d0>"
            ]
          },
          "metadata": {},
          "execution_count": 29
        },
        {
          "output_type": "display_data",
          "data": {
            "text/plain": [
              "<Figure size 640x480 with 1 Axes>"
            ],
            "image/png": "[encoded data removed]"
          },
          "metadata": {}
        }
      ]
    }
  ]
}