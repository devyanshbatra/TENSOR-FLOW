{
  "nbformat": 4,
  "nbformat_minor": 0,
  "metadata": {
    "colab": {
      "provenance": []
    },
    "kernelspec": {
      "name": "python3",
      "display_name": "Python 3"
    },
    "language_info": {
      "name": "python"
    }
  },
  "cells": [
    {
      "cell_type": "code",
      "execution_count": 1,
      "metadata": {
        "id": "M0XLqX2EfeyD",
        "outputId": "c69111c8-5c49-40ef-cde2-be4f11d3a080",
        "colab": {
          "base_uri": "https://localhost:8080/"
        }
      },
      "outputs": [
        {
          "output_type": "stream",
          "name": "stdout",
          "text": [
            "TensorFlow version: 2.15.0\n",
            "Notebook last run (end-to-end): 2024-02-09 17:18:07.638894\n"
          ]
        }
      ],
      "source": [
        "import tensorflow as tf\n",
        "print(f\"TensorFlow version: {tf.__version__}\")\n",
        "import datetime\n",
        "print(f\"Notebook last run (end-to-end): {datetime.datetime.now()}\")\n",
        "import numpy as np\n",
        "import matplotlib.pyplot as plt\n",
        "import pandas as pd"
      ]
    },
    {
      "cell_type": "code",
      "source": [
        "print(tf.__version__)"
      ],
      "metadata": {
        "colab": {
          "base_uri": "https://localhost:8080/"
        },
        "id": "HwV8OTOvfp2k",
        "outputId": "1ecf52c6-4d99-4d90-a400-9183b45671fe"
      },
      "execution_count": null,
      "outputs": [
        {
          "output_type": "stream",
          "name": "stdout",
          "text": [
            "2.15.0\n"
          ]
        }
      ]
    },
    {
      "cell_type": "code",
      "source": [
        "scalar=tf.constant(7)\n",
        "scalar"
      ],
      "metadata": {
        "colab": {
          "base_uri": "https://localhost:8080/"
        },
        "id": "fen6AJ8Gf4RE",
        "outputId": "439e3b2f-b4e8-4810-bede-d205b58f5879"
      },
      "execution_count": null,
      "outputs": [
        {
          "output_type": "execute_result",
          "data": {
            "text/plain": [
              "<tf.Tensor: shape=(), dtype=int32, numpy=7>"
            ]
          },
          "metadata": {},
          "execution_count": 3
        }
      ]
    },
    {
      "cell_type": "code",
      "source": [
        "scalar.ndim"
      ],
      "metadata": {
        "colab": {
          "base_uri": "https://localhost:8080/"
        },
        "id": "yueJ2mWNyv-S",
        "outputId": "04cc2538-0323-4b34-dfeb-b932ee803280"
      },
      "execution_count": null,
      "outputs": [
        {
          "output_type": "execute_result",
          "data": {
            "text/plain": [
              "0"
            ]
          },
          "metadata": {},
          "execution_count": 5
        }
      ]
    },
    {
      "cell_type": "code",
      "source": [
        "vector=tf.constant([10,10,9])\n",
        "vector"
      ],
      "metadata": {
        "colab": {
          "base_uri": "https://localhost:8080/"
        },
        "id": "665mUKsazCb_",
        "outputId": "4bda402a-216a-42b3-9603-5b37566e7a75"
      },
      "execution_count": null,
      "outputs": [
        {
          "output_type": "execute_result",
          "data": {
            "text/plain": [
              "<tf.Tensor: shape=(3,), dtype=int32, numpy=array([10, 10,  9], dtype=int32)>"
            ]
          },
          "metadata": {},
          "execution_count": 6
        }
      ]
    },
    {
      "cell_type": "code",
      "source": [
        "matrix=tf.constant([[10,7],\n",
        "                    [17,18]])\n",
        "matrix"
      ],
      "metadata": {
        "colab": {
          "base_uri": "https://localhost:8080/"
        },
        "id": "SVaoD4VV1CUA",
        "outputId": "0f7f80e6-4d47-445e-c135-5340a75a8aa9"
      },
      "execution_count": null,
      "outputs": [
        {
          "output_type": "execute_result",
          "data": {
            "text/plain": [
              "<tf.Tensor: shape=(2, 2), dtype=int32, numpy=\n",
              "array([[10,  7],\n",
              "       [17, 18]], dtype=int32)>"
            ]
          },
          "metadata": {},
          "execution_count": 7
        }
      ]
    },
    {
      "cell_type": "code",
      "source": [
        "matrix_2=tf.constant([[10,11],\n",
        "                      [19,18]])\n",
        "matrix_2"
      ],
      "metadata": {
        "colab": {
          "base_uri": "https://localhost:8080/"
        },
        "id": "vyk9mqdl1LWK",
        "outputId": "7e43f5ab-f7fd-4341-a7e5-2088d9909892"
      },
      "execution_count": null,
      "outputs": [
        {
          "output_type": "execute_result",
          "data": {
            "text/plain": [
              "<tf.Tensor: shape=(2, 2), dtype=int32, numpy=\n",
              "array([[10, 11],\n",
              "       [19, 18]], dtype=int32)>"
            ]
          },
          "metadata": {},
          "execution_count": 11
        }
      ]
    },
    {
      "cell_type": "code",
      "source": [
        "changeable_tensor=tf.Variable([10,7])\n",
        "unchangeable_tensor=tf.constant([11,8])\n",
        "changeable_tensor,unchangeable_tensor"
      ],
      "metadata": {
        "id": "L2MGtxsg2BpO",
        "colab": {
          "base_uri": "https://localhost:8080/"
        },
        "outputId": "a76b4768-096a-45f1-802f-d5e8d9a48f5d"
      },
      "execution_count": null,
      "outputs": [
        {
          "output_type": "execute_result",
          "data": {
            "text/plain": [
              "(<tf.Variable 'Variable:0' shape=(2,) dtype=int32, numpy=array([10,  7], dtype=int32)>,\n",
              " <tf.Tensor: shape=(2,), dtype=int32, numpy=array([11,  8], dtype=int32)>)"
            ]
          },
          "metadata": {},
          "execution_count": 4
        }
      ]
    },
    {
      "cell_type": "code",
      "source": [
        "changeable_tensor[0].assign(7)\n",
        "changeable_tensor"
      ],
      "metadata": {
        "colab": {
          "base_uri": "https://localhost:8080/"
        },
        "id": "Zd1S5StjCaeM",
        "outputId": "0b8a4066-0c59-493c-a208-02ef086c6b0d"
      },
      "execution_count": null,
      "outputs": [
        {
          "output_type": "execute_result",
          "data": {
            "text/plain": [
              "<tf.Variable 'Variable:0' shape=(2,) dtype=int32, numpy=array([7, 7], dtype=int32)>"
            ]
          },
          "metadata": {},
          "execution_count": 5
        }
      ]
    },
    {
      "cell_type": "code",
      "source": [
        "x=np.array([-2,-6,-8,-9])"
      ],
      "metadata": {
        "id": "qLYTxbd0DnJk"
      },
      "execution_count": null,
      "outputs": []
    },
    {
      "cell_type": "code",
      "source": [
        "x"
      ],
      "metadata": {
        "colab": {
          "base_uri": "https://localhost:8080/"
        },
        "id": "b9I-v4CyqPfT",
        "outputId": "d7bf5061-a691-4aee-9fac-aec47e559441"
      },
      "execution_count": null,
      "outputs": [
        {
          "output_type": "execute_result",
          "data": {
            "text/plain": [
              "array([-2, -6, -8, -9])"
            ]
          },
          "metadata": {},
          "execution_count": 5
        }
      ]
    },
    {
      "cell_type": "code",
      "source": [
        "y=np.array([-6,-5,-7,-3])\n",
        "y\n",
        "\n"
      ],
      "metadata": {
        "colab": {
          "base_uri": "https://localhost:8080/"
        },
        "id": "Gp19thccqUdx",
        "outputId": "0e1c31d6-4a26-4082-d679-fb5f6eb34d56"
      },
      "execution_count": null,
      "outputs": [
        {
          "output_type": "execute_result",
          "data": {
            "text/plain": [
              "array([-6, -5, -7, -3])"
            ]
          },
          "metadata": {},
          "execution_count": 4
        }
      ]
    },
    {
      "cell_type": "code",
      "source": [
        "plt.scatter(x,y)"
      ],
      "metadata": {
        "colab": {
          "base_uri": "https://localhost:8080/",
          "height": 447
        },
        "id": "UfRgM3pvqZvi",
        "outputId": "6d18e598-baeb-4d28-d6ef-5d36b8c358a7"
      },
      "execution_count": null,
      "outputs": [
        {
          "output_type": "execute_result",
          "data": {
            "text/plain": [
              "<matplotlib.collections.PathCollection at 0x7b25f39f3ac0>"
            ]
          },
          "metadata": {},
          "execution_count": 8
        },
        {
          "output_type": "display_data",
          "data": {
            "text/plain": [
              "<Figure size 640x480 with 1 Axes>"
            ],
            "image/png": "[encoded data removed]"
          },
          "metadata": {}
        }
      ]
    },
    {
      "cell_type": "code",
      "source": [
        "y == x+10"
      ],
      "metadata": {
        "colab": {
          "base_uri": "https://localhost:8080/"
        },
        "id": "yUO0dRFQqtea",
        "outputId": "1027a868-047b-4776-d76b-f8acd3c2e1a9"
      },
      "execution_count": null,
      "outputs": [
        {
          "output_type": "execute_result",
          "data": {
            "text/plain": [
              "array([False, False, False, False])"
            ]
          },
          "metadata": {},
          "execution_count": 9
        }
      ]
    },
    {
      "cell_type": "code",
      "source": [
        "house_info=tf.constant([\"bedroom\",\"Hallway\",\"Bathroom\"])\n",
        "house_info"
      ],
      "metadata": {
        "colab": {
          "base_uri": "https://localhost:8080/"
        },
        "id": "OnaNnUyjqxK4",
        "outputId": "c63b1e0a-ac45-4642-d0c6-022ba97c39d2"
      },
      "execution_count": null,
      "outputs": [
        {
          "output_type": "execute_result",
          "data": {
            "text/plain": [
              "<tf.Tensor: shape=(3,), dtype=string, numpy=array([b'bedroom', b'Hallway', b'Bathroom'], dtype=object)>"
            ]
          },
          "metadata": {},
          "execution_count": 10
        }
      ]
    },
    {
      "cell_type": "code",
      "source": [
        "house_price=tf.constant([\"8900\",\"78787\",\"67585\"])\n",
        "house_price"
      ],
      "metadata": {
        "id": "douFGsDJ2i-1",
        "colab": {
          "base_uri": "https://localhost:8080/"
        },
        "outputId": "a40b2005-2d7f-4903-cdcb-e6d6a995e9f5"
      },
      "execution_count": null,
      "outputs": [
        {
          "output_type": "execute_result",
          "data": {
            "text/plain": [
              "<tf.Tensor: shape=(3,), dtype=string, numpy=array([b'8900', b'78787', b'67585'], dtype=object)>"
            ]
          },
          "metadata": {},
          "execution_count": 6
        }
      ]
    },
    {
      "cell_type": "code",
      "source": [
        "x[0],y[0]"
      ],
      "metadata": {
        "colab": {
          "base_uri": "https://localhost:8080/"
        },
        "id": "k9tot8bgZZC8",
        "outputId": "3bf6b92a-ca67-4c39-d14b-b562f22e8a7b"
      },
      "execution_count": null,
      "outputs": [
        {
          "output_type": "execute_result",
          "data": {
            "text/plain": [
              "(-2, -6)"
            ]
          },
          "metadata": {},
          "execution_count": 8
        }
      ]
    },
    {
      "cell_type": "code",
      "source": [
        "input_shape=x[0].shape\n",
        "output_shape=y[0].shape"
      ],
      "metadata": {
        "id": "k5eLaaIRLfrC"
      },
      "execution_count": null,
      "outputs": []
    },
    {
      "cell_type": "code",
      "source": [
        "X=tf.constant(x)\n",
        "Y=tf.constant(y)\n",
        "X,Y"
      ],
      "metadata": {
        "colab": {
          "base_uri": "https://localhost:8080/"
        },
        "id": "WRI1wddTL0Ri",
        "outputId": "35699cff-e1c8-43e3-b5cd-0ea003deec3f"
      },
      "execution_count": null,
      "outputs": [
        {
          "output_type": "execute_result",
          "data": {
            "text/plain": [
              "(<tf.Tensor: shape=(4,), dtype=int64, numpy=array([-2, -6, -8, -9])>,\n",
              " <tf.Tensor: shape=(4,), dtype=int64, numpy=array([-6, -5, -7, -3])>)"
            ]
          },
          "metadata": {},
          "execution_count": 8
        }
      ]
    },
    {
      "cell_type": "code",
      "source": [
        "x[3],y[3]"
      ],
      "metadata": {
        "colab": {
          "base_uri": "https://localhost:8080/"
        },
        "id": "gDAZgVrnZqgk",
        "outputId": "4c78192e-4848-4fb5-be6a-5fabaa857ec5"
      },
      "execution_count": null,
      "outputs": [
        {
          "output_type": "execute_result",
          "data": {
            "text/plain": [
              "(-9, -3)"
            ]
          },
          "metadata": {},
          "execution_count": 9
        }
      ]
    },
    {
      "cell_type": "code",
      "source": [
        "x[2]"
      ],
      "metadata": {
        "colab": {
          "base_uri": "https://localhost:8080/"
        },
        "id": "p35eqnpIZtbf",
        "outputId": "bcf9009a-1e44-4e1c-801c-7184705f3893"
      },
      "execution_count": null,
      "outputs": [
        {
          "output_type": "execute_result",
          "data": {
            "text/plain": [
              "-8"
            ]
          },
          "metadata": {},
          "execution_count": 11
        }
      ]
    },
    {
      "cell_type": "code",
      "source": [
        "tf.random.set_seed(42)\n",
        "model=tf.keras.Sequential([\n",
        "    tf.keras.layers.Dense(1)\n",
        "])\n",
        "model.compile(loss=tf.keras.losses.mae,\n",
        "              optimizer=tf.keras.optimizers.SGD(),\n",
        "              metrics=[\"mae\"])\n",
        "model.fit(tf.expand_dims(X, axis=-1), y, epochs=5)\n"
      ],
      "metadata": {
        "colab": {
          "base_uri": "https://localhost:8080/"
        },
        "id": "sdUadbXCKyWy",
        "outputId": "307b8fbb-98e8-479c-c0c8-747fedeb0e34"
      },
      "execution_count": null,
      "outputs": [
        {
          "output_type": "stream",
          "name": "stdout",
          "text": [
            "Epoch 1/5\n",
            "1/1 [==============================] - 1s 558ms/step - loss: 4.5977 - mae: 4.5977\n",
            "Epoch 2/5\n",
            "1/1 [==============================] - 0s 10ms/step - loss: 4.1971 - mae: 4.1971\n",
            "Epoch 3/5\n",
            "1/1 [==============================] - 0s 10ms/step - loss: 3.7964 - mae: 3.7964\n",
            "Epoch 4/5\n",
            "1/1 [==============================] - 0s 10ms/step - loss: 3.3958 - mae: 3.3958\n",
            "Epoch 5/5\n",
            "1/1 [==============================] - 0s 11ms/step - loss: 3.1098 - mae: 3.1098\n"
          ]
        },
        {
          "output_type": "execute_result",
          "data": {
            "text/plain": [
              "<keras.src.callbacks.History at 0x79395d424e80>"
            ]
          },
          "metadata": {},
          "execution_count": 9
        }
      ]
    },
    {
      "cell_type": "code",
      "source": [
        "tf.random.set_seed(42)\n",
        "model=tf.keras.Sequential([\n",
        "    tf.keras.layers.Dense(100),\n",
        "    tf.keras.layers.Dense(100),\n",
        "    tf.keras.layers.Dense(100),\n",
        "     tf.keras.layers.Dense(1)\n",
        "])\n",
        "model.compile(loss=tf.keras.losses.mae,\n",
        "              optimizer=tf.keras.optimizers.SGD(),\n",
        "              metrics=[\"mae\"])\n",
        "model.fit(tf.expand_dims(X, axis=-1), y, epochs=100)\n"
      ],
      "metadata": {
        "colab": {
          "base_uri": "https://localhost:8080/"
        },
        "id": "qx7GauniyKUM",
        "outputId": "402345d6-ceae-4aba-f535-e989c4129e2c"
      },
      "execution_count": null,
      "outputs": [
        {
          "output_type": "stream",
          "name": "stdout",
          "text": [
            "Epoch 1/100\n",
            "1/1 [==============================] - 2s 2s/step - loss: 5.5274 - mae: 5.5274\n",
            "Epoch 2/100\n",
            "1/1 [==============================] - 0s 17ms/step - loss: 2.5861 - mae: 2.5861\n",
            "Epoch 3/100\n",
            "1/1 [==============================] - 0s 16ms/step - loss: 2.3202 - mae: 2.3202\n",
            "Epoch 4/100\n",
            "1/1 [==============================] - 0s 11ms/step - loss: 2.4750 - mae: 2.4750\n",
            "Epoch 5/100\n",
            "1/1 [==============================] - 0s 15ms/step - loss: 2.6128 - mae: 2.6128\n",
            "Epoch 6/100\n",
            "1/1 [==============================] - 0s 12ms/step - loss: 3.3949 - mae: 3.3949\n",
            "Epoch 7/100\n",
            "1/1 [==============================] - 0s 12ms/step - loss: 2.6997 - mae: 2.6997\n",
            "Epoch 8/100\n",
            "1/1 [==============================] - 0s 12ms/step - loss: 3.0883 - mae: 3.0883\n",
            "Epoch 9/100\n",
            "1/1 [==============================] - 0s 12ms/step - loss: 2.7902 - mae: 2.7902\n",
            "Epoch 10/100\n",
            "1/1 [==============================] - 0s 12ms/step - loss: 2.4749 - mae: 2.4749\n",
            "Epoch 11/100\n",
            "1/1 [==============================] - 0s 11ms/step - loss: 2.3717 - mae: 2.3717\n",
            "Epoch 12/100\n",
            "1/1 [==============================] - 0s 11ms/step - loss: 3.1093 - mae: 3.1093\n",
            "Epoch 13/100\n",
            "1/1 [==============================] - 0s 12ms/step - loss: 2.8281 - mae: 2.8281\n",
            "Epoch 14/100\n",
            "1/1 [==============================] - 0s 9ms/step - loss: 2.5313 - mae: 2.5313\n",
            "Epoch 15/100\n",
            "1/1 [==============================] - 0s 13ms/step - loss: 2.2492 - mae: 2.2492\n",
            "Epoch 16/100\n",
            "1/1 [==============================] - 0s 12ms/step - loss: 2.4379 - mae: 2.4379\n",
            "Epoch 17/100\n",
            "1/1 [==============================] - 0s 9ms/step - loss: 2.3516 - mae: 2.3516\n",
            "Epoch 18/100\n",
            "1/1 [==============================] - 0s 10ms/step - loss: 3.0441 - mae: 3.0441\n",
            "Epoch 19/100\n",
            "1/1 [==============================] - 0s 10ms/step - loss: 2.7752 - mae: 2.7752\n",
            "Epoch 20/100\n",
            "1/1 [==============================] - 0s 8ms/step - loss: 2.4905 - mae: 2.4905\n",
            "Epoch 21/100\n",
            "1/1 [==============================] - 0s 11ms/step - loss: 2.2389 - mae: 2.2389\n",
            "Epoch 22/100\n",
            "1/1 [==============================] - 0s 10ms/step - loss: 2.4000 - mae: 2.4000\n",
            "Epoch 23/100\n",
            "1/1 [==============================] - 0s 10ms/step - loss: 2.3433 - mae: 2.3433\n",
            "Epoch 24/100\n",
            "1/1 [==============================] - 0s 10ms/step - loss: 2.9820 - mae: 2.9820\n",
            "Epoch 25/100\n",
            "1/1 [==============================] - 0s 10ms/step - loss: 2.7235 - mae: 2.7235\n",
            "Epoch 26/100\n",
            "1/1 [==============================] - 0s 9ms/step - loss: 2.4490 - mae: 2.4490\n",
            "Epoch 27/100\n",
            "1/1 [==============================] - 0s 9ms/step - loss: 2.2310 - mae: 2.2310\n",
            "Epoch 28/100\n",
            "1/1 [==============================] - 0s 9ms/step - loss: 2.3608 - mae: 2.3608\n",
            "Epoch 29/100\n",
            "1/1 [==============================] - 0s 11ms/step - loss: 2.3459 - mae: 2.3459\n",
            "Epoch 30/100\n",
            "1/1 [==============================] - 0s 13ms/step - loss: 2.9221 - mae: 2.9221\n",
            "Epoch 31/100\n",
            "1/1 [==============================] - 0s 10ms/step - loss: 2.6725 - mae: 2.6725\n",
            "Epoch 32/100\n",
            "1/1 [==============================] - 0s 9ms/step - loss: 2.4066 - mae: 2.4066\n",
            "Epoch 33/100\n",
            "1/1 [==============================] - 0s 12ms/step - loss: 2.2254 - mae: 2.2254\n",
            "Epoch 34/100\n",
            "1/1 [==============================] - 0s 9ms/step - loss: 2.3202 - mae: 2.3202\n",
            "Epoch 35/100\n",
            "1/1 [==============================] - 0s 13ms/step - loss: 2.3586 - mae: 2.3586\n",
            "Epoch 36/100\n",
            "1/1 [==============================] - 0s 12ms/step - loss: 2.8640 - mae: 2.8640\n",
            "Epoch 37/100\n",
            "1/1 [==============================] - 0s 10ms/step - loss: 2.6218 - mae: 2.6218\n",
            "Epoch 38/100\n",
            "1/1 [==============================] - 0s 14ms/step - loss: 2.3631 - mae: 2.3631\n",
            "Epoch 39/100\n",
            "1/1 [==============================] - 0s 11ms/step - loss: 2.2218 - mae: 2.2218\n",
            "Epoch 40/100\n",
            "1/1 [==============================] - 0s 10ms/step - loss: 2.2781 - mae: 2.2781\n",
            "Epoch 41/100\n",
            "1/1 [==============================] - 0s 9ms/step - loss: 2.3809 - mae: 2.3809\n",
            "Epoch 42/100\n",
            "1/1 [==============================] - 0s 11ms/step - loss: 2.8070 - mae: 2.8070\n",
            "Epoch 43/100\n",
            "1/1 [==============================] - 0s 10ms/step - loss: 2.5710 - mae: 2.5710\n",
            "Epoch 44/100\n",
            "1/1 [==============================] - 0s 10ms/step - loss: 2.3182 - mae: 2.3182\n",
            "Epoch 45/100\n",
            "1/1 [==============================] - 0s 10ms/step - loss: 2.2202 - mae: 2.2202\n",
            "Epoch 46/100\n",
            "1/1 [==============================] - 0s 10ms/step - loss: 2.2342 - mae: 2.2342\n",
            "Epoch 47/100\n",
            "1/1 [==============================] - 0s 11ms/step - loss: 2.4124 - mae: 2.4124\n",
            "Epoch 48/100\n",
            "1/1 [==============================] - 0s 10ms/step - loss: 2.7507 - mae: 2.7507\n",
            "Epoch 49/100\n",
            "1/1 [==============================] - 0s 10ms/step - loss: 2.5198 - mae: 2.5198\n",
            "Epoch 50/100\n",
            "1/1 [==============================] - 0s 10ms/step - loss: 2.2718 - mae: 2.2718\n",
            "Epoch 51/100\n",
            "1/1 [==============================] - 0s 11ms/step - loss: 2.2204 - mae: 2.2204\n",
            "Epoch 52/100\n",
            "1/1 [==============================] - 0s 10ms/step - loss: 2.1884 - mae: 2.1884\n",
            "Epoch 53/100\n",
            "1/1 [==============================] - 0s 10ms/step - loss: 2.4528 - mae: 2.4528\n",
            "Epoch 54/100\n",
            "1/1 [==============================] - 0s 10ms/step - loss: 2.6947 - mae: 2.6947\n",
            "Epoch 55/100\n",
            "1/1 [==============================] - 0s 10ms/step - loss: 2.4679 - mae: 2.4679\n",
            "Epoch 56/100\n",
            "1/1 [==============================] - 0s 9ms/step - loss: 2.2236 - mae: 2.2236\n",
            "Epoch 57/100\n",
            "1/1 [==============================] - 0s 10ms/step - loss: 2.2656 - mae: 2.2656\n",
            "Epoch 58/100\n",
            "1/1 [==============================] - 0s 10ms/step - loss: 2.7079 - mae: 2.7079\n",
            "Epoch 59/100\n",
            "1/1 [==============================] - 0s 10ms/step - loss: 2.4890 - mae: 2.4890\n",
            "Epoch 60/100\n",
            "1/1 [==============================] - 0s 10ms/step - loss: 2.2535 - mae: 2.2535\n",
            "Epoch 61/100\n",
            "1/1 [==============================] - 0s 10ms/step - loss: 2.1768 - mae: 2.1768\n",
            "Epoch 62/100\n",
            "1/1 [==============================] - 0s 11ms/step - loss: 2.1726 - mae: 2.1726\n",
            "Epoch 63/100\n",
            "1/1 [==============================] - 0s 11ms/step - loss: 2.3271 - mae: 2.3271\n",
            "Epoch 64/100\n",
            "1/1 [==============================] - 0s 11ms/step - loss: 2.6506 - mae: 2.6506\n",
            "Epoch 65/100\n",
            "1/1 [==============================] - 0s 11ms/step - loss: 2.4341 - mae: 2.4341\n",
            "Epoch 66/100\n",
            "1/1 [==============================] - 0s 12ms/step - loss: 2.2006 - mae: 2.2006\n",
            "Epoch 67/100\n",
            "1/1 [==============================] - 0s 10ms/step - loss: 2.1831 - mae: 2.1831\n",
            "Epoch 68/100\n",
            "1/1 [==============================] - 0s 10ms/step - loss: 2.1195 - mae: 2.1195\n",
            "Epoch 69/100\n",
            "1/1 [==============================] - 0s 10ms/step - loss: 2.3963 - mae: 2.3963\n",
            "Epoch 70/100\n",
            "1/1 [==============================] - 0s 9ms/step - loss: 2.5929 - mae: 2.5929\n",
            "Epoch 71/100\n",
            "1/1 [==============================] - 0s 10ms/step - loss: 2.3780 - mae: 2.3780\n",
            "Epoch 72/100\n",
            "1/1 [==============================] - 0s 10ms/step - loss: 2.1456 - mae: 2.1456\n",
            "Epoch 73/100\n",
            "1/1 [==============================] - 0s 10ms/step - loss: 2.2429 - mae: 2.2429\n",
            "Epoch 74/100\n",
            "1/1 [==============================] - 0s 10ms/step - loss: 2.6019 - mae: 2.6019\n",
            "Epoch 75/100\n",
            "1/1 [==============================] - 0s 10ms/step - loss: 2.3930 - mae: 2.3930\n",
            "Epoch 76/100\n",
            "1/1 [==============================] - 0s 10ms/step - loss: 2.1674 - mae: 2.1674\n",
            "Epoch 77/100\n",
            "1/1 [==============================] - 0s 10ms/step - loss: 2.1522 - mae: 2.1522\n",
            "Epoch 78/100\n",
            "1/1 [==============================] - 0s 10ms/step - loss: 2.0873 - mae: 2.0873\n",
            "Epoch 79/100\n",
            "1/1 [==============================] - 0s 11ms/step - loss: 2.3300 - mae: 2.3300\n",
            "Epoch 80/100\n",
            "1/1 [==============================] - 0s 10ms/step - loss: 2.5421 - mae: 2.5421\n",
            "Epoch 81/100\n",
            "1/1 [==============================] - 0s 11ms/step - loss: 2.3335 - mae: 2.3335\n",
            "Epoch 82/100\n",
            "1/1 [==============================] - 0s 11ms/step - loss: 2.1076 - mae: 2.1076\n",
            "Epoch 83/100\n",
            "1/1 [==============================] - 0s 10ms/step - loss: 2.1974 - mae: 2.1974\n",
            "Epoch 84/100\n",
            "1/1 [==============================] - 0s 9ms/step - loss: 2.5479 - mae: 2.5479\n",
            "Epoch 85/100\n",
            "1/1 [==============================] - 0s 9ms/step - loss: 2.3443 - mae: 2.3443\n",
            "Epoch 86/100\n",
            "1/1 [==============================] - 0s 10ms/step - loss: 2.1239 - mae: 2.1239\n",
            "Epoch 87/100\n",
            "1/1 [==============================] - 0s 10ms/step - loss: 2.1290 - mae: 2.1290\n",
            "Epoch 88/100\n",
            "1/1 [==============================] - 0s 10ms/step - loss: 2.0441 - mae: 2.0441\n",
            "Epoch 89/100\n",
            "1/1 [==============================] - 0s 10ms/step - loss: 2.3009 - mae: 2.3009\n",
            "Epoch 90/100\n",
            "1/1 [==============================] - 0s 10ms/step - loss: 2.4856 - mae: 2.4856\n",
            "Epoch 91/100\n",
            "1/1 [==============================] - 0s 9ms/step - loss: 2.2811 - mae: 2.2811\n",
            "Epoch 92/100\n",
            "1/1 [==============================] - 0s 10ms/step - loss: 2.0592 - mae: 2.0592\n",
            "Epoch 93/100\n",
            "1/1 [==============================] - 0s 10ms/step - loss: 2.1857 - mae: 2.1857\n",
            "Epoch 94/100\n",
            "1/1 [==============================] - 0s 10ms/step - loss: 2.4885 - mae: 2.4885\n",
            "Epoch 95/100\n",
            "1/1 [==============================] - 0s 10ms/step - loss: 2.2881 - mae: 2.2881\n",
            "Epoch 96/100\n",
            "1/1 [==============================] - 0s 9ms/step - loss: 2.0707 - mae: 2.0707\n",
            "Epoch 97/100\n",
            "1/1 [==============================] - 0s 10ms/step - loss: 2.1124 - mae: 2.1124\n",
            "Epoch 98/100\n",
            "1/1 [==============================] - 0s 10ms/step - loss: 2.0060 - mae: 2.0060\n",
            "Epoch 99/100\n",
            "1/1 [==============================] - 0s 12ms/step - loss: 2.1384 - mae: 2.1384\n",
            "Epoch 100/100\n",
            "1/1 [==============================] - 0s 11ms/step - loss: 2.0508 - mae: 2.0508\n"
          ]
        },
        {
          "output_type": "execute_result",
          "data": {
            "text/plain": [
              "<keras.src.callbacks.History at 0x7e6964f5d150>"
            ]
          },
          "metadata": {},
          "execution_count": 25
        }
      ]
    },
    {
      "cell_type": "code",
      "source": [
        "model.predict([-10,0])"
      ],
      "metadata": {
        "colab": {
          "base_uri": "https://localhost:8080/"
        },
        "id": "4nPtJ1771VTh",
        "outputId": "064b54a6-0c6c-445a-8605-8b482be3db9f"
      },
      "execution_count": null,
      "outputs": [
        {
          "output_type": "stream",
          "name": "stdout",
          "text": [
            "1/1 [==============================] - 0s 76ms/step\n"
          ]
        },
        {
          "output_type": "execute_result",
          "data": {
            "text/plain": [
              "array([[-7.313995  ],\n",
              "       [-0.17880973]], dtype=float32)"
            ]
          },
          "metadata": {},
          "execution_count": 24
        }
      ]
    },
    {
      "cell_type": "code",
      "source": [
        "tf.random.set_seed(42)\n",
        "model=tf.keras.Sequential([\n",
        "    tf.keras.layers.Dense(1)\n",
        "])\n",
        "model.compile(loss=tf.keras.losses.mae,\n",
        "              optimizer=tf.keras.optimizers.SGD(),\n",
        "              metrics=[\"mae\"])\n",
        "model.fit(tf.expand_dims(X, axis=-1), y, epochs=100)"
      ],
      "metadata": {
        "colab": {
          "base_uri": "https://localhost:8080/"
        },
        "id": "KgXOw9TzyTQE",
        "outputId": "4dc7120b-e92c-4fd3-ec5e-dac7cbf30b7f"
      },
      "execution_count": null,
      "outputs": [
        {
          "output_type": "stream",
          "name": "stdout",
          "text": [
            "Epoch 1/100\n",
            "1/1 [==============================] - 0s 365ms/step - loss: 2.8962 - mae: 2.8962\n",
            "Epoch 2/100\n",
            "1/1 [==============================] - 0s 9ms/step - loss: 2.8631 - mae: 2.8631\n",
            "Epoch 3/100\n",
            "1/1 [==============================] - 0s 10ms/step - loss: 2.8300 - mae: 2.8300\n",
            "Epoch 4/100\n",
            "1/1 [==============================] - 0s 11ms/step - loss: 2.7969 - mae: 2.7969\n",
            "Epoch 5/100\n",
            "1/1 [==============================] - 0s 15ms/step - loss: 2.7637 - mae: 2.7637\n",
            "Epoch 6/100\n",
            "1/1 [==============================] - 0s 13ms/step - loss: 2.7306 - mae: 2.7306\n",
            "Epoch 7/100\n",
            "1/1 [==============================] - 0s 12ms/step - loss: 2.6975 - mae: 2.6975\n",
            "Epoch 8/100\n",
            "1/1 [==============================] - 0s 13ms/step - loss: 2.6644 - mae: 2.6644\n",
            "Epoch 9/100\n",
            "1/1 [==============================] - 0s 11ms/step - loss: 2.6312 - mae: 2.6312\n",
            "Epoch 10/100\n",
            "1/1 [==============================] - 0s 13ms/step - loss: 2.5981 - mae: 2.5981\n",
            "Epoch 11/100\n",
            "1/1 [==============================] - 0s 11ms/step - loss: 2.5650 - mae: 2.5650\n",
            "Epoch 12/100\n",
            "1/1 [==============================] - 0s 10ms/step - loss: 2.5319 - mae: 2.5319\n",
            "Epoch 13/100\n",
            "1/1 [==============================] - 0s 15ms/step - loss: 2.4987 - mae: 2.4987\n",
            "Epoch 14/100\n",
            "1/1 [==============================] - 0s 10ms/step - loss: 2.4656 - mae: 2.4656\n",
            "Epoch 15/100\n",
            "1/1 [==============================] - 0s 11ms/step - loss: 2.4325 - mae: 2.4325\n",
            "Epoch 16/100\n",
            "1/1 [==============================] - 0s 10ms/step - loss: 2.3994 - mae: 2.3994\n",
            "Epoch 17/100\n",
            "1/1 [==============================] - 0s 10ms/step - loss: 2.3662 - mae: 2.3662\n",
            "Epoch 18/100\n",
            "1/1 [==============================] - 0s 10ms/step - loss: 2.3331 - mae: 2.3331\n",
            "Epoch 19/100\n",
            "1/1 [==============================] - 0s 15ms/step - loss: 2.3000 - mae: 2.3000\n",
            "Epoch 20/100\n",
            "1/1 [==============================] - 0s 13ms/step - loss: 2.2755 - mae: 2.2755\n",
            "Epoch 21/100\n",
            "1/1 [==============================] - 0s 13ms/step - loss: 2.2887 - mae: 2.2887\n",
            "Epoch 22/100\n",
            "1/1 [==============================] - 0s 16ms/step - loss: 2.2817 - mae: 2.2817\n",
            "Epoch 23/100\n",
            "1/1 [==============================] - 0s 13ms/step - loss: 2.2775 - mae: 2.2775\n",
            "Epoch 24/100\n",
            "1/1 [==============================] - 0s 12ms/step - loss: 2.2880 - mae: 2.2880\n",
            "Epoch 25/100\n",
            "1/1 [==============================] - 0s 11ms/step - loss: 2.2723 - mae: 2.2723\n",
            "Epoch 26/100\n",
            "1/1 [==============================] - 0s 15ms/step - loss: 2.2881 - mae: 2.2881\n",
            "Epoch 27/100\n",
            "1/1 [==============================] - 0s 13ms/step - loss: 2.2786 - mae: 2.2786\n",
            "Epoch 28/100\n",
            "1/1 [==============================] - 0s 18ms/step - loss: 2.2769 - mae: 2.2769\n",
            "Epoch 29/100\n",
            "1/1 [==============================] - 0s 10ms/step - loss: 2.2848 - mae: 2.2848\n",
            "Epoch 30/100\n",
            "1/1 [==============================] - 0s 11ms/step - loss: 2.2692 - mae: 2.2692\n",
            "Epoch 31/100\n",
            "1/1 [==============================] - 0s 12ms/step - loss: 2.2875 - mae: 2.2875\n",
            "Epoch 32/100\n",
            "1/1 [==============================] - 0s 13ms/step - loss: 2.2755 - mae: 2.2755\n",
            "Epoch 33/100\n",
            "1/1 [==============================] - 0s 11ms/step - loss: 2.2762 - mae: 2.2762\n",
            "Epoch 34/100\n",
            "1/1 [==============================] - 0s 12ms/step - loss: 2.2817 - mae: 2.2817\n",
            "Epoch 35/100\n",
            "1/1 [==============================] - 0s 11ms/step - loss: 2.2661 - mae: 2.2661\n",
            "Epoch 36/100\n",
            "1/1 [==============================] - 0s 11ms/step - loss: 2.2869 - mae: 2.2869\n",
            "Epoch 37/100\n",
            "1/1 [==============================] - 0s 11ms/step - loss: 2.2723 - mae: 2.2723\n",
            "Epoch 38/100\n",
            "1/1 [==============================] - 0s 11ms/step - loss: 2.2756 - mae: 2.2756\n",
            "Epoch 39/100\n",
            "1/1 [==============================] - 0s 10ms/step - loss: 2.2786 - mae: 2.2786\n",
            "Epoch 40/100\n",
            "1/1 [==============================] - 0s 12ms/step - loss: 2.2644 - mae: 2.2644\n",
            "Epoch 41/100\n",
            "1/1 [==============================] - 0s 11ms/step - loss: 2.2848 - mae: 2.2848\n",
            "Epoch 42/100\n",
            "1/1 [==============================] - 0s 11ms/step - loss: 2.2692 - mae: 2.2692\n",
            "Epoch 43/100\n",
            "1/1 [==============================] - 0s 15ms/step - loss: 2.2750 - mae: 2.2750\n",
            "Epoch 44/100\n",
            "1/1 [==============================] - 0s 11ms/step - loss: 2.2755 - mae: 2.2755\n",
            "Epoch 45/100\n",
            "1/1 [==============================] - 0s 11ms/step - loss: 2.2637 - mae: 2.2637\n",
            "Epoch 46/100\n",
            "1/1 [==============================] - 0s 11ms/step - loss: 2.2817 - mae: 2.2817\n",
            "Epoch 47/100\n",
            "1/1 [==============================] - 0s 11ms/step - loss: 2.2661 - mae: 2.2661\n",
            "Epoch 48/100\n",
            "1/1 [==============================] - 0s 12ms/step - loss: 2.2744 - mae: 2.2744\n",
            "Epoch 49/100\n",
            "1/1 [==============================] - 0s 15ms/step - loss: 2.2723 - mae: 2.2723\n",
            "Epoch 50/100\n",
            "1/1 [==============================] - 0s 11ms/step - loss: 2.2631 - mae: 2.2631\n",
            "Epoch 51/100\n",
            "1/1 [==============================] - 0s 11ms/step - loss: 2.2786 - mae: 2.2786\n",
            "Epoch 52/100\n",
            "1/1 [==============================] - 0s 16ms/step - loss: 2.2630 - mae: 2.2630\n",
            "Epoch 53/100\n",
            "1/1 [==============================] - 0s 14ms/step - loss: 2.2737 - mae: 2.2737\n",
            "Epoch 54/100\n",
            "1/1 [==============================] - 0s 12ms/step - loss: 2.2692 - mae: 2.2692\n",
            "Epoch 55/100\n",
            "1/1 [==============================] - 0s 11ms/step - loss: 2.2625 - mae: 2.2625\n",
            "Epoch 56/100\n",
            "1/1 [==============================] - 0s 12ms/step - loss: 2.2755 - mae: 2.2755\n",
            "Epoch 57/100\n",
            "1/1 [==============================] - 0s 10ms/step - loss: 2.2598 - mae: 2.2598\n",
            "Epoch 58/100\n",
            "1/1 [==============================] - 0s 10ms/step - loss: 2.2731 - mae: 2.2731\n",
            "Epoch 59/100\n",
            "1/1 [==============================] - 0s 11ms/step - loss: 2.2661 - mae: 2.2661\n",
            "Epoch 60/100\n",
            "1/1 [==============================] - 0s 10ms/step - loss: 2.2619 - mae: 2.2619\n",
            "Epoch 61/100\n",
            "1/1 [==============================] - 0s 11ms/step - loss: 2.2723 - mae: 2.2723\n",
            "Epoch 62/100\n",
            "1/1 [==============================] - 0s 10ms/step - loss: 2.2567 - mae: 2.2567\n",
            "Epoch 63/100\n",
            "1/1 [==============================] - 0s 10ms/step - loss: 2.2725 - mae: 2.2725\n",
            "Epoch 64/100\n",
            "1/1 [==============================] - 0s 11ms/step - loss: 2.2630 - mae: 2.2630\n",
            "Epoch 65/100\n",
            "1/1 [==============================] - 0s 11ms/step - loss: 2.2612 - mae: 2.2612\n",
            "Epoch 66/100\n",
            "1/1 [==============================] - 0s 12ms/step - loss: 2.2692 - mae: 2.2692\n",
            "Epoch 67/100\n",
            "1/1 [==============================] - 0s 11ms/step - loss: 2.2536 - mae: 2.2536\n",
            "Epoch 68/100\n",
            "1/1 [==============================] - 0s 11ms/step - loss: 2.2719 - mae: 2.2719\n",
            "Epoch 69/100\n",
            "1/1 [==============================] - 0s 11ms/step - loss: 2.2598 - mae: 2.2598\n",
            "Epoch 70/100\n",
            "1/1 [==============================] - 0s 12ms/step - loss: 2.2606 - mae: 2.2606\n",
            "Epoch 71/100\n",
            "1/1 [==============================] - 0s 10ms/step - loss: 2.2661 - mae: 2.2661\n",
            "Epoch 72/100\n",
            "1/1 [==============================] - 0s 11ms/step - loss: 2.2505 - mae: 2.2505\n",
            "Epoch 73/100\n",
            "1/1 [==============================] - 0s 11ms/step - loss: 2.2712 - mae: 2.2712\n",
            "Epoch 74/100\n",
            "1/1 [==============================] - 0s 10ms/step - loss: 2.2567 - mae: 2.2567\n",
            "Epoch 75/100\n",
            "1/1 [==============================] - 0s 11ms/step - loss: 2.2600 - mae: 2.2600\n",
            "Epoch 76/100\n",
            "1/1 [==============================] - 0s 10ms/step - loss: 2.2630 - mae: 2.2630\n",
            "Epoch 77/100\n",
            "1/1 [==============================] - 0s 10ms/step - loss: 2.2487 - mae: 2.2487\n",
            "Epoch 78/100\n",
            "1/1 [==============================] - 0s 10ms/step - loss: 2.2692 - mae: 2.2692\n",
            "Epoch 79/100\n",
            "1/1 [==============================] - 0s 10ms/step - loss: 2.2536 - mae: 2.2536\n",
            "Epoch 80/100\n",
            "1/1 [==============================] - 0s 11ms/step - loss: 2.2594 - mae: 2.2594\n",
            "Epoch 81/100\n",
            "1/1 [==============================] - 0s 10ms/step - loss: 2.2598 - mae: 2.2598\n",
            "Epoch 82/100\n",
            "1/1 [==============================] - 0s 11ms/step - loss: 2.2481 - mae: 2.2481\n",
            "Epoch 83/100\n",
            "1/1 [==============================] - 0s 11ms/step - loss: 2.2661 - mae: 2.2661\n",
            "Epoch 84/100\n",
            "1/1 [==============================] - 0s 14ms/step - loss: 2.2505 - mae: 2.2505\n",
            "Epoch 85/100\n",
            "1/1 [==============================] - 0s 14ms/step - loss: 2.2587 - mae: 2.2587\n",
            "Epoch 86/100\n",
            "1/1 [==============================] - 0s 13ms/step - loss: 2.2567 - mae: 2.2567\n",
            "Epoch 87/100\n",
            "1/1 [==============================] - 0s 13ms/step - loss: 2.2475 - mae: 2.2475\n",
            "Epoch 88/100\n",
            "1/1 [==============================] - 0s 11ms/step - loss: 2.2630 - mae: 2.2630\n",
            "Epoch 89/100\n",
            "1/1 [==============================] - 0s 10ms/step - loss: 2.2473 - mae: 2.2473\n",
            "Epoch 90/100\n",
            "1/1 [==============================] - 0s 11ms/step - loss: 2.2581 - mae: 2.2581\n",
            "Epoch 91/100\n",
            "1/1 [==============================] - 0s 11ms/step - loss: 2.2536 - mae: 2.2536\n",
            "Epoch 92/100\n",
            "1/1 [==============================] - 0s 10ms/step - loss: 2.2469 - mae: 2.2469\n",
            "Epoch 93/100\n",
            "1/1 [==============================] - 0s 10ms/step - loss: 2.2598 - mae: 2.2598\n",
            "Epoch 94/100\n",
            "1/1 [==============================] - 0s 10ms/step - loss: 2.2442 - mae: 2.2442\n",
            "Epoch 95/100\n",
            "1/1 [==============================] - 0s 11ms/step - loss: 2.2575 - mae: 2.2575\n",
            "Epoch 96/100\n",
            "1/1 [==============================] - 0s 11ms/step - loss: 2.2505 - mae: 2.2505\n",
            "Epoch 97/100\n",
            "1/1 [==============================] - 0s 10ms/step - loss: 2.2462 - mae: 2.2462\n",
            "Epoch 98/100\n",
            "1/1 [==============================] - 0s 10ms/step - loss: 2.2567 - mae: 2.2567\n",
            "Epoch 99/100\n",
            "1/1 [==============================] - 0s 10ms/step - loss: 2.2411 - mae: 2.2411\n",
            "Epoch 100/100\n",
            "1/1 [==============================] - 0s 10ms/step - loss: 2.2569 - mae: 2.2569\n"
          ]
        },
        {
          "output_type": "execute_result",
          "data": {
            "text/plain": [
              "<keras.src.callbacks.History at 0x7e6967735990>"
            ]
          },
          "metadata": {},
          "execution_count": 10
        }
      ]
    },
    {
      "cell_type": "code",
      "source": [
        "tf.random.set_seed(42)\n",
        "model = tf.keras.Sequential([\n",
        "  tf.keras.layers.Dense(1),\n",
        "  tf.keras.layers.Dense(1)\n",
        "])\n",
        "model.compile(loss=tf.keras.losses.mae,\n",
        "              optimizer=tf.keras.optimizers.SGD(),\n",
        "              metrics=[\"mae\"])\n",
        "model.fit(tf.expand_dims(X, axis=-1), y, epochs=100)\n"
      ],
      "metadata": {
        "colab": {
          "base_uri": "https://localhost:8080/",
          "height": 217
        },
        "id": "c_bCmdibwvxg",
        "outputId": "d8cace9c-bc36-46ca-b126-af301ec864d1"
      },
      "execution_count": 53,
      "outputs": [
        {
          "output_type": "error",
          "ename": "NameError",
          "evalue": "name 'X' is not defined",
          "traceback": [
            "\u001b[0;31m---------------------------------------------------------------------------\u001b[0m",
            "\u001b[0;31mNameError\u001b[0m                                 Traceback (most recent call last)",
            "\u001b[0;32m<ipython-input-53-7ea8e9e7b7c9>\u001b[0m in \u001b[0;36m<cell line: 9>\u001b[0;34m()\u001b[0m\n\u001b[1;32m      7\u001b[0m               \u001b[0moptimizer\u001b[0m\u001b[0;34m=\u001b[0m\u001b[0mtf\u001b[0m\u001b[0;34m.\u001b[0m\u001b[0mkeras\u001b[0m\u001b[0;34m.\u001b[0m\u001b[0moptimizers\u001b[0m\u001b[0;34m.\u001b[0m\u001b[0mSGD\u001b[0m\u001b[0;34m(\u001b[0m\u001b[0;34m)\u001b[0m\u001b[0;34m,\u001b[0m\u001b[0;34m\u001b[0m\u001b[0;34m\u001b[0m\u001b[0m\n\u001b[1;32m      8\u001b[0m               metrics=[\"mae\"])\n\u001b[0;32m----> 9\u001b[0;31m \u001b[0mmodel\u001b[0m\u001b[0;34m.\u001b[0m\u001b[0mfit\u001b[0m\u001b[0;34m(\u001b[0m\u001b[0mtf\u001b[0m\u001b[0;34m.\u001b[0m\u001b[0mexpand_dims\u001b[0m\u001b[0;34m(\u001b[0m\u001b[0mX\u001b[0m\u001b[0;34m,\u001b[0m \u001b[0maxis\u001b[0m\u001b[0;34m=\u001b[0m\u001b[0;34m-\u001b[0m\u001b[0;36m1\u001b[0m\u001b[0;34m)\u001b[0m\u001b[0;34m,\u001b[0m \u001b[0my\u001b[0m\u001b[0;34m,\u001b[0m \u001b[0mepochs\u001b[0m\u001b[0;34m=\u001b[0m\u001b[0;36m100\u001b[0m\u001b[0;34m)\u001b[0m\u001b[0;34m\u001b[0m\u001b[0;34m\u001b[0m\u001b[0m\n\u001b[0m",
            "\u001b[0;31mNameError\u001b[0m: name 'X' is not defined"
          ]
        }
      ]
    },
    {
      "cell_type": "code",
      "source": [
        "x,y"
      ],
      "metadata": {
        "colab": {
          "base_uri": "https://localhost:8080/"
        },
        "id": "aoGj7VDyyYTS",
        "outputId": "2c01ac0d-0fc5-43ad-e3f6-dafb485f2bb0"
      },
      "execution_count": null,
      "outputs": [
        {
          "output_type": "execute_result",
          "data": {
            "text/plain": [
              "(array([-2, -6, -8, -9]), array([-6, -5, -7, -3]))"
            ]
          },
          "metadata": {},
          "execution_count": 12
        }
      ]
    },
    {
      "cell_type": "code",
      "source": [
        "model.predict([-10,0])"
      ],
      "metadata": {
        "colab": {
          "base_uri": "https://localhost:8080/"
        },
        "id": "SSt4t2_7yexJ",
        "outputId": "62550601-36ba-4a5f-a041-d4dc9e18bea6"
      },
      "execution_count": null,
      "outputs": [
        {
          "output_type": "stream",
          "name": "stdout",
          "text": [
            "1/1 [==============================] - 0s 36ms/step\n"
          ]
        },
        {
          "output_type": "execute_result",
          "data": {
            "text/plain": [
              "array([[-8.238363 ],\n",
              "       [-0.2499999]], dtype=float32)"
            ]
          },
          "metadata": {},
          "execution_count": 14
        }
      ]
    },
    {
      "cell_type": "code",
      "source": [
        "x_new=tf.range(-100,100,3)\n",
        "x_new"
      ],
      "metadata": {
        "colab": {
          "base_uri": "https://localhost:8080/"
        },
        "id": "j9uYnI4f2G93",
        "outputId": "4d96b113-c4b6-495f-c177-d6fe83faf335"
      },
      "execution_count": 42,
      "outputs": [
        {
          "output_type": "execute_result",
          "data": {
            "text/plain": [
              "<tf.Tensor: shape=(67,), dtype=int32, numpy=\n",
              "array([-100,  -97,  -94,  -91,  -88,  -85,  -82,  -79,  -76,  -73,  -70,\n",
              "        -67,  -64,  -61,  -58,  -55,  -52,  -49,  -46,  -43,  -40,  -37,\n",
              "        -34,  -31,  -28,  -25,  -22,  -19,  -16,  -13,  -10,   -7,   -4,\n",
              "         -1,    2,    5,    8,   11,   14,   17,   20,   23,   26,   29,\n",
              "         32,   35,   38,   41,   44,   47,   50,   53,   56,   59,   62,\n",
              "         65,   68,   71,   74,   77,   80,   83,   86,   89,   92,   95,\n",
              "         98], dtype=int32)>"
            ]
          },
          "metadata": {},
          "execution_count": 42
        }
      ]
    },
    {
      "cell_type": "code",
      "source": [
        "y_new=x_new+10\n",
        "y_new"
      ],
      "metadata": {
        "colab": {
          "base_uri": "https://localhost:8080/"
        },
        "id": "7NYNS_Zt9mWT",
        "outputId": "2ed58841-1982-429e-9f59-03da7021f293"
      },
      "execution_count": 43,
      "outputs": [
        {
          "output_type": "execute_result",
          "data": {
            "text/plain": [
              "<tf.Tensor: shape=(67,), dtype=int32, numpy=\n",
              "array([-90, -87, -84, -81, -78, -75, -72, -69, -66, -63, -60, -57, -54,\n",
              "       -51, -48, -45, -42, -39, -36, -33, -30, -27, -24, -21, -18, -15,\n",
              "       -12,  -9,  -6,  -3,   0,   3,   6,   9,  12,  15,  18,  21,  24,\n",
              "        27,  30,  33,  36,  39,  42,  45,  48,  51,  54,  57,  60,  63,\n",
              "        66,  69,  72,  75,  78,  81,  84,  87,  90,  93,  96,  99, 102,\n",
              "       105, 108], dtype=int32)>"
            ]
          },
          "metadata": {},
          "execution_count": 43
        }
      ]
    },
    {
      "cell_type": "code",
      "source": [
        "plt.scatter(x_new,y_new)"
      ],
      "metadata": {
        "colab": {
          "base_uri": "https://localhost:8080/",
          "height": 447
        },
        "id": "hRPVWd-p9u4i",
        "outputId": "374b8296-1e3b-4882-fdc7-0a568c719a71"
      },
      "execution_count": null,
      "outputs": [
        {
          "output_type": "execute_result",
          "data": {
            "text/plain": [
              "<matplotlib.collections.PathCollection at 0x7e6959cbf9d0>"
            ]
          },
          "metadata": {},
          "execution_count": 29
        },
        {
          "output_type": "display_data",
          "data": {
            "text/plain": [
              "<Figure size 640x480 with 1 Axes>"
            ],
            "image/png": "[encoded data removed]"
          },
          "metadata": {}
        }
      ]
    },
    {
      "cell_type": "markdown",
      "source": [
        "# **DAY 2 TENSOR FLOW **"
      ],
      "metadata": {
        "id": "C-JeYyFEcUuC"
      }
    },
    {
      "cell_type": "code",
      "source": [
        "len(x_new)"
      ],
      "metadata": {
        "colab": {
          "base_uri": "https://localhost:8080/"
        },
        "id": "Vz324p3TcaPx",
        "outputId": "d613f022-a3ac-4761-fae0-3868527789eb"
      },
      "execution_count": null,
      "outputs": [
        {
          "output_type": "execute_result",
          "data": {
            "text/plain": [
              "67"
            ]
          },
          "metadata": {},
          "execution_count": 6
        }
      ]
    },
    {
      "cell_type": "code",
      "source": [
        "x_train=x_new[:40]\n",
        "x_test=x_new[40:]\n",
        "y_train=y_new[:40]\n",
        "y_test=y_new[40:]\n",
        "x_train,y_train,x_test,y_test"
      ],
      "metadata": {
        "colab": {
          "base_uri": "https://localhost:8080/"
        },
        "id": "qi-_kZPntk9m",
        "outputId": "028fdc2a-0537-4496-ba4b-a508586d277b"
      },
      "execution_count": 44,
      "outputs": [
        {
          "output_type": "execute_result",
          "data": {
            "text/plain": [
              "(<tf.Tensor: shape=(40,), dtype=int32, numpy=\n",
              " array([-100,  -97,  -94,  -91,  -88,  -85,  -82,  -79,  -76,  -73,  -70,\n",
              "         -67,  -64,  -61,  -58,  -55,  -52,  -49,  -46,  -43,  -40,  -37,\n",
              "         -34,  -31,  -28,  -25,  -22,  -19,  -16,  -13,  -10,   -7,   -4,\n",
              "          -1,    2,    5,    8,   11,   14,   17], dtype=int32)>,\n",
              " <tf.Tensor: shape=(40,), dtype=int32, numpy=\n",
              " array([-90, -87, -84, -81, -78, -75, -72, -69, -66, -63, -60, -57, -54,\n",
              "        -51, -48, -45, -42, -39, -36, -33, -30, -27, -24, -21, -18, -15,\n",
              "        -12,  -9,  -6,  -3,   0,   3,   6,   9,  12,  15,  18,  21,  24,\n",
              "         27], dtype=int32)>,\n",
              " <tf.Tensor: shape=(27,), dtype=int32, numpy=\n",
              " array([20, 23, 26, 29, 32, 35, 38, 41, 44, 47, 50, 53, 56, 59, 62, 65, 68,\n",
              "        71, 74, 77, 80, 83, 86, 89, 92, 95, 98], dtype=int32)>,\n",
              " <tf.Tensor: shape=(27,), dtype=int32, numpy=\n",
              " array([ 30,  33,  36,  39,  42,  45,  48,  51,  54,  57,  60,  63,  66,\n",
              "         69,  72,  75,  78,  81,  84,  87,  90,  93,  96,  99, 102, 105,\n",
              "        108], dtype=int32)>)"
            ]
          },
          "metadata": {},
          "execution_count": 44
        }
      ]
    },
    {
      "cell_type": "code",
      "source": [
        "len(x_train)"
      ],
      "metadata": {
        "colab": {
          "base_uri": "https://localhost:8080/"
        },
        "id": "1Xt8B0c7uZyp",
        "outputId": "8cf27392-0421-49f0-cedf-6f6a699b418b"
      },
      "execution_count": null,
      "outputs": [
        {
          "output_type": "execute_result",
          "data": {
            "text/plain": [
              "40"
            ]
          },
          "metadata": {},
          "execution_count": 7
        }
      ]
    },
    {
      "cell_type": "code",
      "source": [
        "len(x_test)"
      ],
      "metadata": {
        "colab": {
          "base_uri": "https://localhost:8080/"
        },
        "id": "2w6fHEhuucI9",
        "outputId": "532dc66a-25a5-4b9a-f393-956fcb51bbe6"
      },
      "execution_count": 61,
      "outputs": [
        {
          "output_type": "execute_result",
          "data": {
            "text/plain": [
              "27"
            ]
          },
          "metadata": {},
          "execution_count": 61
        }
      ]
    },
    {
      "cell_type": "code",
      "source": [
        "plt.scatter(x_train,y_train,c=\"b\")"
      ],
      "metadata": {
        "colab": {
          "base_uri": "https://localhost:8080/",
          "height": 448
        },
        "id": "LJf6St5Kuwiv",
        "outputId": "788a34a8-f803-4b59-8412-aa0cfde2baba"
      },
      "execution_count": null,
      "outputs": [
        {
          "output_type": "execute_result",
          "data": {
            "text/plain": [
              "<matplotlib.collections.PathCollection at 0x79de17acaa10>"
            ]
          },
          "metadata": {},
          "execution_count": 11
        },
        {
          "output_type": "display_data",
          "data": {
            "text/plain": [
              "<Figure size 640x480 with 1 Axes>"
            ],
            "image/png": "[encoded data removed]"
          },
          "metadata": {}
        }
      ]
    },
    {
      "cell_type": "code",
      "source": [
        "plt.scatter(x_test,y_test,c=\"g\")"
      ],
      "metadata": {
        "colab": {
          "base_uri": "https://localhost:8080/",
          "height": 448
        },
        "id": "tmqlJhfRu1vW",
        "outputId": "48b24f3d-9734-4999-f8bf-e8b5d538644b"
      },
      "execution_count": null,
      "outputs": [
        {
          "output_type": "execute_result",
          "data": {
            "text/plain": [
              "<matplotlib.collections.PathCollection at 0x79de178848e0>"
            ]
          },
          "metadata": {},
          "execution_count": 12
        },
        {
          "output_type": "display_data",
          "data": {
            "text/plain": [
              "<Figure size 640x480 with 1 Axes>"
            ],
            "image/png": "[encoded data removed]"
          },
          "metadata": {}
        }
      ]
    },
    {
      "cell_type": "code",
      "source": [
        "plt.scatter(x_test,y_test,c=\"g\",label=\"Testing data\")\n",
        "plt.scatter(x_train,y_train,c=\"b\",label=\"Training data\")\n",
        "plt.legend()\n"
      ],
      "metadata": {
        "colab": {
          "base_uri": "https://localhost:8080/",
          "height": 448
        },
        "id": "sBlfirtMvA3I",
        "outputId": "cb002af7-d226-413c-fc49-64109b2cbcac"
      },
      "execution_count": 45,
      "outputs": [
        {
          "output_type": "execute_result",
          "data": {
            "text/plain": [
              "<matplotlib.legend.Legend at 0x7a5bedec00a0>"
            ]
          },
          "metadata": {},
          "execution_count": 45
        },
        {
          "output_type": "display_data",
          "data": {
            "text/plain": [
              "<Figure size 640x480 with 1 Axes>"
            ],
            "image/png": "[encoded data removed]"
          },
          "metadata": {}
        }
      ]
    },
    {
      "cell_type": "code",
      "source": [
        "tf.random.set_seed(42)\n",
        "model=tf.keras.Sequential([\n",
        "   tf.keras.layers.Dense(100),\n",
        "     tf.keras.layers.Dense(100),\n",
        "\n",
        "])\n",
        "model.compile(loss=tf.keras.losses.mae,\n",
        "              optimizer=tf.keras.optimizers.SGD(),\n",
        "              metrics=[\"mae\"])\n",
        "model.fit(tf.expand_dims(x_train, axis=-1), y_train, epochs=100)"
      ],
      "metadata": {
        "id": "xamFOrLfxO8n",
        "colab": {
          "base_uri": "https://localhost:8080/"
        },
        "outputId": "bc203874-dd55-475b-a7d1-dc561c050aeb"
      },
      "execution_count": 99,
      "outputs": [
        {
          "output_type": "stream",
          "name": "stdout",
          "text": [
            "Epoch 1/100\n",
            "2/2 [==============================] - 1s 22ms/step - loss: 38.1855 - mae: 38.1855\n",
            "Epoch 2/100\n",
            "2/2 [==============================] - 0s 15ms/step - loss: 37.0685 - mae: 37.0685\n",
            "Epoch 3/100\n",
            "2/2 [==============================] - 0s 15ms/step - loss: 35.8424 - mae: 35.8424\n",
            "Epoch 4/100\n",
            "2/2 [==============================] - 0s 24ms/step - loss: 34.6987 - mae: 34.6987\n",
            "Epoch 5/100\n",
            "2/2 [==============================] - 0s 14ms/step - loss: 33.5419 - mae: 33.5419\n",
            "Epoch 6/100\n",
            "2/2 [==============================] - 0s 11ms/step - loss: 32.3093 - mae: 32.3093\n",
            "Epoch 7/100\n",
            "2/2 [==============================] - 0s 19ms/step - loss: 30.8111 - mae: 30.8111\n",
            "Epoch 8/100\n",
            "2/2 [==============================] - 0s 20ms/step - loss: 28.9812 - mae: 28.9812\n",
            "Epoch 9/100\n",
            "2/2 [==============================] - 0s 18ms/step - loss: 26.7119 - mae: 26.7119\n",
            "Epoch 10/100\n",
            "2/2 [==============================] - 0s 12ms/step - loss: 24.7151 - mae: 24.7151\n",
            "Epoch 11/100\n",
            "2/2 [==============================] - 0s 15ms/step - loss: 22.4824 - mae: 22.4824\n",
            "Epoch 12/100\n",
            "2/2 [==============================] - 0s 19ms/step - loss: 19.4455 - mae: 19.4455\n",
            "Epoch 13/100\n",
            "2/2 [==============================] - 0s 16ms/step - loss: 16.6182 - mae: 16.6182\n",
            "Epoch 14/100\n",
            "2/2 [==============================] - 0s 15ms/step - loss: 13.7527 - mae: 13.7527\n",
            "Epoch 15/100\n",
            "2/2 [==============================] - 0s 12ms/step - loss: 11.4854 - mae: 11.4854\n",
            "Epoch 16/100\n",
            "2/2 [==============================] - 0s 13ms/step - loss: 9.8133 - mae: 9.8133\n",
            "Epoch 17/100\n",
            "2/2 [==============================] - 0s 12ms/step - loss: 8.4203 - mae: 8.4203\n",
            "Epoch 18/100\n",
            "2/2 [==============================] - 0s 13ms/step - loss: 7.4405 - mae: 7.4405\n",
            "Epoch 19/100\n",
            "2/2 [==============================] - 0s 12ms/step - loss: 6.6386 - mae: 6.6386\n",
            "Epoch 20/100\n",
            "2/2 [==============================] - 0s 13ms/step - loss: 6.1387 - mae: 6.1387\n",
            "Epoch 21/100\n",
            "2/2 [==============================] - 0s 13ms/step - loss: 5.8927 - mae: 5.8927\n",
            "Epoch 22/100\n",
            "2/2 [==============================] - 0s 17ms/step - loss: 5.7393 - mae: 5.7393\n",
            "Epoch 23/100\n",
            "2/2 [==============================] - 0s 16ms/step - loss: 5.6401 - mae: 5.6401\n",
            "Epoch 24/100\n",
            "2/2 [==============================] - 0s 14ms/step - loss: 5.3955 - mae: 5.3955\n",
            "Epoch 25/100\n",
            "2/2 [==============================] - 0s 9ms/step - loss: 5.8046 - mae: 5.8046\n",
            "Epoch 26/100\n",
            "2/2 [==============================] - 0s 9ms/step - loss: 5.2831 - mae: 5.2831\n",
            "Epoch 27/100\n",
            "2/2 [==============================] - 0s 9ms/step - loss: 5.2580 - mae: 5.2580\n",
            "Epoch 28/100\n",
            "2/2 [==============================] - 0s 8ms/step - loss: 5.2574 - mae: 5.2574\n",
            "Epoch 29/100\n",
            "2/2 [==============================] - 0s 9ms/step - loss: 5.4513 - mae: 5.4513\n",
            "Epoch 30/100\n",
            "2/2 [==============================] - 0s 11ms/step - loss: 6.2422 - mae: 6.2422\n",
            "Epoch 31/100\n",
            "2/2 [==============================] - 0s 9ms/step - loss: 8.3498 - mae: 8.3498\n",
            "Epoch 32/100\n",
            "2/2 [==============================] - 0s 14ms/step - loss: 5.5955 - mae: 5.5955\n",
            "Epoch 33/100\n",
            "2/2 [==============================] - 0s 11ms/step - loss: 5.2995 - mae: 5.2995\n",
            "Epoch 34/100\n",
            "2/2 [==============================] - 0s 10ms/step - loss: 5.2716 - mae: 5.2716\n",
            "Epoch 35/100\n",
            "2/2 [==============================] - 0s 9ms/step - loss: 5.4629 - mae: 5.4629\n",
            "Epoch 36/100\n",
            "2/2 [==============================] - 0s 10ms/step - loss: 5.2900 - mae: 5.2900\n",
            "Epoch 37/100\n",
            "2/2 [==============================] - 0s 8ms/step - loss: 5.2840 - mae: 5.2840\n",
            "Epoch 38/100\n",
            "2/2 [==============================] - 0s 8ms/step - loss: 5.3409 - mae: 5.3409\n",
            "Epoch 39/100\n",
            "2/2 [==============================] - 0s 9ms/step - loss: 5.2492 - mae: 5.2492\n",
            "Epoch 40/100\n",
            "2/2 [==============================] - 0s 9ms/step - loss: 5.2767 - mae: 5.2767\n",
            "Epoch 41/100\n",
            "2/2 [==============================] - 0s 10ms/step - loss: 5.2366 - mae: 5.2366\n",
            "Epoch 42/100\n",
            "2/2 [==============================] - 0s 10ms/step - loss: 5.2878 - mae: 5.2878\n",
            "Epoch 43/100\n",
            "2/2 [==============================] - 0s 9ms/step - loss: 5.2709 - mae: 5.2709\n",
            "Epoch 44/100\n",
            "2/2 [==============================] - 0s 10ms/step - loss: 5.5843 - mae: 5.5843\n",
            "Epoch 45/100\n",
            "2/2 [==============================] - 0s 11ms/step - loss: 5.2502 - mae: 5.2502\n",
            "Epoch 46/100\n",
            "2/2 [==============================] - 0s 9ms/step - loss: 5.3035 - mae: 5.3035\n",
            "Epoch 47/100\n",
            "2/2 [==============================] - 0s 10ms/step - loss: 5.7408 - mae: 5.7408\n",
            "Epoch 48/100\n",
            "2/2 [==============================] - 0s 9ms/step - loss: 5.3338 - mae: 5.3338\n",
            "Epoch 49/100\n",
            "2/2 [==============================] - 0s 10ms/step - loss: 5.6702 - mae: 5.6702\n",
            "Epoch 50/100\n",
            "2/2 [==============================] - 0s 8ms/step - loss: 5.7515 - mae: 5.7515\n",
            "Epoch 51/100\n",
            "2/2 [==============================] - 0s 8ms/step - loss: 5.6122 - mae: 5.6122\n",
            "Epoch 52/100\n",
            "2/2 [==============================] - 0s 9ms/step - loss: 5.4414 - mae: 5.4414\n",
            "Epoch 53/100\n",
            "2/2 [==============================] - 0s 8ms/step - loss: 5.3025 - mae: 5.3025\n",
            "Epoch 54/100\n",
            "2/2 [==============================] - 0s 10ms/step - loss: 6.5724 - mae: 6.5724\n",
            "Epoch 55/100\n",
            "2/2 [==============================] - 0s 9ms/step - loss: 5.8998 - mae: 5.8998\n",
            "Epoch 56/100\n",
            "2/2 [==============================] - 0s 14ms/step - loss: 5.3678 - mae: 5.3678\n",
            "Epoch 57/100\n",
            "2/2 [==============================] - 0s 14ms/step - loss: 5.3345 - mae: 5.3345\n",
            "Epoch 58/100\n",
            "2/2 [==============================] - 0s 10ms/step - loss: 5.3638 - mae: 5.3638\n",
            "Epoch 59/100\n",
            "2/2 [==============================] - 0s 9ms/step - loss: 5.4134 - mae: 5.4134\n",
            "Epoch 60/100\n",
            "2/2 [==============================] - 0s 10ms/step - loss: 5.5559 - mae: 5.5559\n",
            "Epoch 61/100\n",
            "2/2 [==============================] - 0s 10ms/step - loss: 5.2334 - mae: 5.2334\n",
            "Epoch 62/100\n",
            "2/2 [==============================] - 0s 9ms/step - loss: 5.2327 - mae: 5.2327\n",
            "Epoch 63/100\n",
            "2/2 [==============================] - 0s 8ms/step - loss: 5.2377 - mae: 5.2377\n",
            "Epoch 64/100\n",
            "2/2 [==============================] - 0s 12ms/step - loss: 5.3025 - mae: 5.3025\n",
            "Epoch 65/100\n",
            "2/2 [==============================] - 0s 9ms/step - loss: 5.2416 - mae: 5.2416\n",
            "Epoch 66/100\n",
            "2/2 [==============================] - 0s 13ms/step - loss: 5.2594 - mae: 5.2594\n",
            "Epoch 67/100\n",
            "2/2 [==============================] - 0s 11ms/step - loss: 5.3101 - mae: 5.3101\n",
            "Epoch 68/100\n",
            "2/2 [==============================] - 0s 8ms/step - loss: 5.2365 - mae: 5.2365\n",
            "Epoch 69/100\n",
            "2/2 [==============================] - 0s 11ms/step - loss: 5.2632 - mae: 5.2632\n",
            "Epoch 70/100\n",
            "2/2 [==============================] - 0s 12ms/step - loss: 5.4488 - mae: 5.4488\n",
            "Epoch 71/100\n",
            "2/2 [==============================] - 0s 10ms/step - loss: 5.2859 - mae: 5.2859\n",
            "Epoch 72/100\n",
            "2/2 [==============================] - 0s 11ms/step - loss: 5.3035 - mae: 5.3035\n",
            "Epoch 73/100\n",
            "2/2 [==============================] - 0s 12ms/step - loss: 5.8978 - mae: 5.8978\n",
            "Epoch 74/100\n",
            "2/2 [==============================] - 0s 9ms/step - loss: 5.7662 - mae: 5.7662\n",
            "Epoch 75/100\n",
            "2/2 [==============================] - 0s 10ms/step - loss: 5.4608 - mae: 5.4608\n",
            "Epoch 76/100\n",
            "2/2 [==============================] - 0s 9ms/step - loss: 5.3023 - mae: 5.3023\n",
            "Epoch 77/100\n",
            "2/2 [==============================] - 0s 9ms/step - loss: 5.4089 - mae: 5.4089\n",
            "Epoch 78/100\n",
            "2/2 [==============================] - 0s 8ms/step - loss: 5.2458 - mae: 5.2458\n",
            "Epoch 79/100\n",
            "2/2 [==============================] - 0s 10ms/step - loss: 5.8177 - mae: 5.8177\n",
            "Epoch 80/100\n",
            "2/2 [==============================] - 0s 9ms/step - loss: 5.3569 - mae: 5.3569\n",
            "Epoch 81/100\n",
            "2/2 [==============================] - 0s 9ms/step - loss: 5.2403 - mae: 5.2403\n",
            "Epoch 82/100\n",
            "2/2 [==============================] - 0s 13ms/step - loss: 5.4964 - mae: 5.4964\n",
            "Epoch 83/100\n",
            "2/2 [==============================] - 0s 9ms/step - loss: 5.5470 - mae: 5.5470\n",
            "Epoch 84/100\n",
            "2/2 [==============================] - 0s 11ms/step - loss: 5.6136 - mae: 5.6136\n",
            "Epoch 85/100\n",
            "2/2 [==============================] - 0s 12ms/step - loss: 6.1317 - mae: 6.1317\n",
            "Epoch 86/100\n",
            "2/2 [==============================] - 0s 18ms/step - loss: 5.7988 - mae: 5.7988\n",
            "Epoch 87/100\n",
            "2/2 [==============================] - 0s 11ms/step - loss: 6.1659 - mae: 6.1659\n",
            "Epoch 88/100\n",
            "2/2 [==============================] - 0s 10ms/step - loss: 5.2642 - mae: 5.2642\n",
            "Epoch 89/100\n",
            "2/2 [==============================] - 0s 10ms/step - loss: 5.2335 - mae: 5.2335\n",
            "Epoch 90/100\n",
            "2/2 [==============================] - 0s 13ms/step - loss: 5.3866 - mae: 5.3866\n",
            "Epoch 91/100\n",
            "2/2 [==============================] - 0s 9ms/step - loss: 5.4235 - mae: 5.4235\n",
            "Epoch 92/100\n",
            "2/2 [==============================] - 0s 9ms/step - loss: 5.2210 - mae: 5.2210\n",
            "Epoch 93/100\n",
            "2/2 [==============================] - 0s 9ms/step - loss: 5.4285 - mae: 5.4285\n",
            "Epoch 94/100\n",
            "2/2 [==============================] - 0s 9ms/step - loss: 5.2087 - mae: 5.2087\n",
            "Epoch 95/100\n",
            "2/2 [==============================] - 0s 12ms/step - loss: 5.2482 - mae: 5.2482\n",
            "Epoch 96/100\n",
            "2/2 [==============================] - 0s 10ms/step - loss: 5.8091 - mae: 5.8091\n",
            "Epoch 97/100\n",
            "2/2 [==============================] - 0s 13ms/step - loss: 5.3998 - mae: 5.3998\n",
            "Epoch 98/100\n",
            "2/2 [==============================] - 0s 11ms/step - loss: 5.4482 - mae: 5.4482\n",
            "Epoch 99/100\n",
            "2/2 [==============================] - 0s 11ms/step - loss: 5.2334 - mae: 5.2334\n",
            "Epoch 100/100\n",
            "2/2 [==============================] - 0s 12ms/step - loss: 5.2735 - mae: 5.2735\n"
          ]
        },
        {
          "output_type": "execute_result",
          "data": {
            "text/plain": [
              "<keras.src.callbacks.History at 0x7a5bd6be8e20>"
            ]
          },
          "metadata": {},
          "execution_count": 99
        }
      ]
    },
    {
      "cell_type": "code",
      "source": [
        "model.summary()"
      ],
      "metadata": {
        "colab": {
          "base_uri": "https://localhost:8080/"
        },
        "id": "I8rI1DbJAN_T",
        "outputId": "02e65b50-9e32-4748-e7b0-5fbd4874aabb"
      },
      "execution_count": 60,
      "outputs": [
        {
          "output_type": "stream",
          "name": "stdout",
          "text": [
            "Model: \"sequential_5\"\n",
            "_________________________________________________________________\n",
            " Layer (type)                Output Shape              Param #   \n",
            "=================================================================\n",
            " dense_13 (Dense)            (None, 100)               200       \n",
            "                                                                 \n",
            " dense_14 (Dense)            (None, 100)               10100     \n",
            "                                                                 \n",
            " dense_15 (Dense)            (None, 100)               10100     \n",
            "                                                                 \n",
            " dense_16 (Dense)            (None, 1)                 101       \n",
            "                                                                 \n",
            "=================================================================\n",
            "Total params: 20501 (80.08 KB)\n",
            "Trainable params: 20501 (80.08 KB)\n",
            "Non-trainable params: 0 (0.00 Byte)\n",
            "_________________________________________________________________\n"
          ]
        }
      ]
    },
    {
      "cell_type": "code",
      "source": [
        "y_pred=model.predict(x_test)\n",
        "y_pred"
      ],
      "metadata": {
        "colab": {
          "base_uri": "https://localhost:8080/"
        },
        "id": "a6Iq-qKZAioR",
        "outputId": "59b3b318-e77d-4e29-dfe2-609110ee2d1d"
      },
      "execution_count": 100,
      "outputs": [
        {
          "output_type": "stream",
          "name": "stdout",
          "text": [
            "1/1 [==============================] - 0s 60ms/step\n"
          ]
        },
        {
          "output_type": "execute_result",
          "data": {
            "text/plain": [
              "array([[17.286322, 17.314617, 17.301214, ..., 17.321844, 17.295273,\n",
              "        17.316174],\n",
              "       [19.86786 , 19.901114, 19.88549 , ..., 19.907837, 19.878693,\n",
              "        19.902416],\n",
              "       [22.4494  , 22.48761 , 22.469774, ..., 22.49383 , 22.462112,\n",
              "        22.488659],\n",
              "       ...,\n",
              "       [79.24318 , 79.39059 , 79.32388 , ..., 79.38562 , 79.29742 ,\n",
              "        79.38596 ],\n",
              "       [81.82473 , 81.97709 , 81.90816 , ..., 81.97161 , 81.88082 ,\n",
              "        81.9722  ],\n",
              "       [84.40626 , 84.5636  , 84.49244 , ..., 84.55761 , 84.46424 ,\n",
              "        84.55844 ]], dtype=float32)"
            ]
          },
          "metadata": {},
          "execution_count": 100
        }
      ]
    },
    {
      "cell_type": "code",
      "source": [
        "# defeining ploit predicitons\n",
        "def plot_predictions(\n",
        "    train_data = x_train,\n",
        "    train_labels = y_train,\n",
        "test_data = (x_test,),\n",
        "test_labels=  y_test,\n",
        "predictions = y_pred,\n",
        "):"
      ],
      "metadata": {
        "colab": {
          "base_uri": "https://localhost:8080/",
          "height": 144
        },
        "id": "irYQDERnAvPx",
        "outputId": "1f13ed1b-62d2-4ff3-c73f-18901236627f"
      },
      "execution_count": 85,
      "outputs": [
        {
          "output_type": "error",
          "ename": "SyntaxError",
          "evalue": "incomplete input (<ipython-input-85-81897e2db2b5>, line 8)",
          "traceback": [
            "\u001b[0;36m  File \u001b[0;32m\"<ipython-input-85-81897e2db2b5>\"\u001b[0;36m, line \u001b[0;32m8\u001b[0m\n\u001b[0;31m    ):\u001b[0m\n\u001b[0m      ^\u001b[0m\n\u001b[0;31mSyntaxError\u001b[0m\u001b[0;31m:\u001b[0m incomplete input\n"
          ]
        }
      ]
    },
    {
      "cell_type": "code",
      "source": [
        "\n",
        "plt.scatter(train_data,train_labels,c=\"b\")\n",
        "plt.scatter(test_data,test_labels,c=\"g\")\n",
        "plt.scatter(test_data,predictions,c=\"r\")\n",
        "plt.legend()"
      ],
      "metadata": {
        "colab": {
          "base_uri": "https://localhost:8080/",
          "height": 236
        },
        "id": "dgkOdsI5D7rE",
        "outputId": "54dd5e71-713d-4789-c9ce-15970da8cbde"
      },
      "execution_count": 87,
      "outputs": [
        {
          "output_type": "error",
          "ename": "NameError",
          "evalue": "name 'train_data' is not defined",
          "traceback": [
            "\u001b[0;31m---------------------------------------------------------------------------\u001b[0m",
            "\u001b[0;31mNameError\u001b[0m                                 Traceback (most recent call last)",
            "\u001b[0;32m<ipython-input-87-c7e83453953c>\u001b[0m in \u001b[0;36m<cell line: 1>\u001b[0;34m()\u001b[0m\n\u001b[0;32m----> 1\u001b[0;31m \u001b[0mplt\u001b[0m\u001b[0;34m.\u001b[0m\u001b[0mscatter\u001b[0m\u001b[0;34m(\u001b[0m\u001b[0mtrain_data\u001b[0m\u001b[0;34m,\u001b[0m\u001b[0mtrain_labels\u001b[0m\u001b[0;34m,\u001b[0m\u001b[0mc\u001b[0m\u001b[0;34m=\u001b[0m\u001b[0;34m\"b\"\u001b[0m\u001b[0;34m)\u001b[0m\u001b[0;34m\u001b[0m\u001b[0;34m\u001b[0m\u001b[0m\n\u001b[0m\u001b[1;32m      2\u001b[0m \u001b[0mplt\u001b[0m\u001b[0;34m.\u001b[0m\u001b[0mscatter\u001b[0m\u001b[0;34m(\u001b[0m\u001b[0mtest_data\u001b[0m\u001b[0;34m,\u001b[0m\u001b[0mtest_labels\u001b[0m\u001b[0;34m,\u001b[0m\u001b[0mc\u001b[0m\u001b[0;34m=\u001b[0m\u001b[0;34m\"g\"\u001b[0m\u001b[0;34m)\u001b[0m\u001b[0;34m\u001b[0m\u001b[0;34m\u001b[0m\u001b[0m\n\u001b[1;32m      3\u001b[0m \u001b[0mplt\u001b[0m\u001b[0;34m.\u001b[0m\u001b[0mscatter\u001b[0m\u001b[0;34m(\u001b[0m\u001b[0mtest_data\u001b[0m\u001b[0;34m,\u001b[0m\u001b[0mpredictions\u001b[0m\u001b[0;34m,\u001b[0m\u001b[0mc\u001b[0m\u001b[0;34m=\u001b[0m\u001b[0;34m\"r\"\u001b[0m\u001b[0;34m)\u001b[0m\u001b[0;34m\u001b[0m\u001b[0;34m\u001b[0m\u001b[0m\n\u001b[1;32m      4\u001b[0m \u001b[0mplt\u001b[0m\u001b[0;34m.\u001b[0m\u001b[0mlegend\u001b[0m\u001b[0;34m(\u001b[0m\u001b[0;34m)\u001b[0m\u001b[0;34m\u001b[0m\u001b[0;34m\u001b[0m\u001b[0m\n",
            "\u001b[0;31mNameError\u001b[0m: name 'train_data' is not defined"
          ]
        }
      ]
    },
    {
      "cell_type": "code",
      "source": [
        "model.evaluate(x_test,y_test)"
      ],
      "metadata": {
        "colab": {
          "base_uri": "https://localhost:8080/"
        },
        "id": "7NYn5eVKFrMP",
        "outputId": "015582df-e728-4cfa-bd86-622cb609eca2"
      },
      "execution_count": 101,
      "outputs": [
        {
          "output_type": "stream",
          "name": "stdout",
          "text": [
            "1/1 [==============================] - 0s 127ms/step - loss: 18.0744 - mae: 18.0744\n"
          ]
        },
        {
          "output_type": "execute_result",
          "data": {
            "text/plain": [
              "[18.07439613342285, 18.07439613342285]"
            ]
          },
          "metadata": {},
          "execution_count": 101
        }
      ]
    },
    {
      "cell_type": "code",
      "source": [
        "y_pred"
      ],
      "metadata": {
        "colab": {
          "base_uri": "https://localhost:8080/"
        },
        "id": "ijFNG7kkCqxA",
        "outputId": "03ae1c5d-75da-4fc3-9723-e14468020070"
      },
      "execution_count": 102,
      "outputs": [
        {
          "output_type": "execute_result",
          "data": {
            "text/plain": [
              "array([[17.286322, 17.314617, 17.301214, ..., 17.321844, 17.295273,\n",
              "        17.316174],\n",
              "       [19.86786 , 19.901114, 19.88549 , ..., 19.907837, 19.878693,\n",
              "        19.902416],\n",
              "       [22.4494  , 22.48761 , 22.469774, ..., 22.49383 , 22.462112,\n",
              "        22.488659],\n",
              "       ...,\n",
              "       [79.24318 , 79.39059 , 79.32388 , ..., 79.38562 , 79.29742 ,\n",
              "        79.38596 ],\n",
              "       [81.82473 , 81.97709 , 81.90816 , ..., 81.97161 , 81.88082 ,\n",
              "        81.9722  ],\n",
              "       [84.40626 , 84.5636  , 84.49244 , ..., 84.55761 , 84.46424 ,\n",
              "        84.55844 ]], dtype=float32)"
            ]
          },
          "metadata": {},
          "execution_count": 102
        }
      ]
    },
    {
      "cell_type": "code",
      "source": [
        "y_test"
      ],
      "metadata": {
        "colab": {
          "base_uri": "https://localhost:8080/"
        },
        "id": "NNwAuwKwGcZD",
        "outputId": "a36d3f1b-a306-495a-d71d-e9165e83302a"
      },
      "execution_count": 90,
      "outputs": [
        {
          "output_type": "execute_result",
          "data": {
            "text/plain": [
              "<tf.Tensor: shape=(27,), dtype=int32, numpy=\n",
              "array([ 30,  33,  36,  39,  42,  45,  48,  51,  54,  57,  60,  63,  66,\n",
              "        69,  72,  75,  78,  81,  84,  87,  90,  93,  96,  99, 102, 105,\n",
              "       108], dtype=int32)>"
            ]
          },
          "metadata": {},
          "execution_count": 90
        }
      ]
    },
    {
      "cell_type": "code",
      "source": [
        "tf.constant(y_pred)"
      ],
      "metadata": {
        "colab": {
          "base_uri": "https://localhost:8080/"
        },
        "id": "MMPryIU6GfUI",
        "outputId": "82e4831d-e8d8-44ab-d3a4-71c9b1188ed1"
      },
      "execution_count": 103,
      "outputs": [
        {
          "output_type": "execute_result",
          "data": {
            "text/plain": [
              "<tf.Tensor: shape=(27, 100), dtype=float32, numpy=\n",
              "array([[17.286322, 17.314617, 17.301214, ..., 17.321844, 17.295273,\n",
              "        17.316174],\n",
              "       [19.86786 , 19.901114, 19.88549 , ..., 19.907837, 19.878693,\n",
              "        19.902416],\n",
              "       [22.4494  , 22.48761 , 22.469774, ..., 22.49383 , 22.462112,\n",
              "        22.488659],\n",
              "       ...,\n",
              "       [79.24318 , 79.39059 , 79.32388 , ..., 79.38562 , 79.29742 ,\n",
              "        79.38596 ],\n",
              "       [81.82473 , 81.97709 , 81.90816 , ..., 81.97161 , 81.88082 ,\n",
              "        81.9722  ],\n",
              "       [84.40626 , 84.5636  , 84.49244 , ..., 84.55761 , 84.46424 ,\n",
              "        84.55844 ]], dtype=float32)>"
            ]
          },
          "metadata": {},
          "execution_count": 103
        }
      ]
    },
    {
      "cell_type": "code",
      "source": [],
      "metadata": {
        "id": "8_VyFeC9Hdn3"
      },
      "execution_count": null,
      "outputs": []
    },
    {
      "cell_type": "code",
      "source": [
        "import zipfile\n",
        "\n",
        "# Download zip file of pizza_steak images\n",
        "!wget https://storage.googleapis.com/ztm_tf_course/food_vision/pizza_steak.zip\n",
        "\n",
        "# Unzip the downloaded file\n",
        "zip_ref = zipfile.ZipFile(\"pizza_steak.zip\", \"r\")\n",
        "zip_ref.extractall()\n",
        "zip_ref.close()"
      ],
      "metadata": {
        "id": "AwunYE6jUkbG",
        "colab": {
          "base_uri": "https://localhost:8080/"
        },
        "outputId": "45858273-bcb1-4a64-d6eb-7c1dcd84321b"
      },
      "execution_count": 2,
      "outputs": [
        {
          "output_type": "stream",
          "name": "stdout",
          "text": [
            "--2024-02-09 17:18:07--  https://storage.googleapis.com/ztm_tf_course/food_vision/pizza_steak.zip\n",
            "Resolving storage.googleapis.com (storage.googleapis.com)... 172.253.63.207, 142.250.31.207, 142.251.111.207, ...\n",
            "Connecting to storage.googleapis.com (storage.googleapis.com)|172.253.63.207|:443... connected.\n",
            "HTTP request sent, awaiting response... 200 OK\n",
            "Length: 109540975 (104M) [application/zip]\n",
            "Saving to: ‘pizza_steak.zip’\n",
            "\n",
            "pizza_steak.zip     100%[===================>] 104.47M   149MB/s    in 0.7s    \n",
            "\n",
            "2024-02-09 17:18:08 (149 MB/s) - ‘pizza_steak.zip’ saved [109540975/109540975]\n",
            "\n"
          ]
        }
      ]
    },
    {
      "cell_type": "code",
      "source": [
        "import os"
      ],
      "metadata": {
        "id": "ntnWDZgRxtGc"
      },
      "execution_count": 4,
      "outputs": []
    },
    {
      "cell_type": "code",
      "source": [
        "!ls pizza_steak"
      ],
      "metadata": {
        "colab": {
          "base_uri": "https://localhost:8080/"
        },
        "id": "tixAn3ly4N5T",
        "outputId": "ee9d5274-90f7-4101-bcbd-919dc9f6de13"
      },
      "execution_count": 5,
      "outputs": [
        {
          "output_type": "stream",
          "name": "stdout",
          "text": [
            "test  train\n"
          ]
        }
      ]
    },
    {
      "cell_type": "code",
      "source": [
        "!ls pizza_steak/train/steak/"
      ],
      "metadata": {
        "colab": {
          "base_uri": "https://localhost:8080/"
        },
        "id": "p1NahOVO4WGJ",
        "outputId": "ab6a0e17-797e-4f85-ca45-cf297a7268f6"
      },
      "execution_count": 6,
      "outputs": [
        {
          "output_type": "stream",
          "name": "stdout",
          "text": [
            "1000205.jpg  1598345.jpg  2062248.jpg  2548974.jpg  3030578.jpg  3571963.jpg  510757.jpg\n",
            "100135.jpg   1598885.jpg  2081995.jpg  2549316.jpg  3047807.jpg  3576078.jpg  513129.jpg\n",
            "101312.jpg   1600179.jpg  2087958.jpg  2561199.jpg  3059843.jpg  3577618.jpg  513842.jpg\n",
            "1021458.jpg  1600794.jpg  2088030.jpg  2563233.jpg  3074367.jpg  3577732.jpg  523535.jpg\n",
            "1032846.jpg  160552.jpg   2088195.jpg  256592.jpg   3082120.jpg  3578934.jpg  525041.jpg\n",
            "10380.jpg    1606596.jpg  2090493.jpg  2568848.jpg  3094354.jpg  358042.jpg   534560.jpg\n",
            "1049459.jpg  1615395.jpg  2090504.jpg  2573392.jpg  3095301.jpg  358045.jpg   534633.jpg\n",
            "1053665.jpg  1618011.jpg  2125877.jpg  2592401.jpg  3099645.jpg  3591821.jpg  536535.jpg\n",
            "1068516.jpg  1619357.jpg  2129685.jpg  2599817.jpg  3100476.jpg  359330.jpg   541410.jpg\n",
            "1068975.jpg  1621763.jpg  2133717.jpg  2603058.jpg  3110387.jpg  3601483.jpg  543691.jpg\n",
            "1081258.jpg  1623325.jpg  2136662.jpg  2606444.jpg  3113772.jpg  3606642.jpg  560503.jpg\n",
            "1090122.jpg  1624450.jpg  213765.jpg   2614189.jpg  3116018.jpg  3609394.jpg  561972.jpg\n",
            "1093966.jpg  1624747.jpg  2138335.jpg  2614649.jpg  3128952.jpg  361067.jpg   56240.jpg\n",
            "1098844.jpg  1628861.jpg  2140776.jpg  2615718.jpg  3130412.jpg  3613455.jpg  56409.jpg\n",
            "1100074.jpg  1632774.jpg  214320.jpg   2619625.jpg  3136.jpg\t 3621464.jpg  564530.jpg\n",
            "1105280.jpg  1636831.jpg  2146963.jpg  2622140.jpg  313851.jpg\t 3621562.jpg  568972.jpg\n",
            "1117936.jpg  1645470.jpg  215222.jpg   262321.jpg   3140083.jpg  3621565.jpg  576725.jpg\n",
            "1126126.jpg  1647351.jpg  2154126.jpg  2625330.jpg  3140147.jpg  3623556.jpg  588739.jpg\n",
            "114601.jpg   1650002.jpg  2154779.jpg  2628106.jpg  3142045.jpg  3640915.jpg  590142.jpg\n",
            "1147047.jpg  165639.jpg   2159975.jpg  2629750.jpg  3142618.jpg  3643951.jpg  60633.jpg\n",
            "1147883.jpg  1658186.jpg  2163079.jpg  2643906.jpg  3142674.jpg  3653129.jpg  60655.jpg\n",
            "1155665.jpg  1658443.jpg  217250.jpg   2644457.jpg  3143192.jpg  3656752.jpg  606820.jpg\n",
            "1163977.jpg  165964.jpg   2172600.jpg  2648423.jpg  314359.jpg\t 3663518.jpg  612551.jpg\n",
            "1190233.jpg  167069.jpg   2173084.jpg  2651300.jpg  3157832.jpg  3663800.jpg  614975.jpg\n",
            "1208405.jpg  1675632.jpg  217996.jpg   2653594.jpg  3159818.jpg  3664376.jpg  616809.jpg\n",
            "1209120.jpg  1678108.jpg  2193684.jpg  2661577.jpg  3162376.jpg  3670607.jpg  628628.jpg\n",
            "1212161.jpg  168006.jpg   220341.jpg   2668916.jpg  3168620.jpg  3671021.jpg  632427.jpg\n",
            "1213988.jpg  1682496.jpg  22080.jpg    268444.jpg   3171085.jpg  3671877.jpg  636594.jpg\n",
            "1219039.jpg  1684438.jpg  2216146.jpg  2691461.jpg  317206.jpg\t 368073.jpg   637374.jpg\n",
            "1225762.jpg  168775.jpg   2222018.jpg  2706403.jpg  3173444.jpg  368162.jpg   640539.jpg\n",
            "1230968.jpg  1697339.jpg  2223787.jpg  270687.jpg   3180182.jpg  368170.jpg   644777.jpg\n",
            "1236155.jpg  1710569.jpg  2230959.jpg  2707522.jpg  31881.jpg\t 3693649.jpg  644867.jpg\n",
            "1241193.jpg  1714605.jpg  2232310.jpg  2711806.jpg  3191589.jpg  3700079.jpg  658189.jpg\n",
            "1248337.jpg  1724387.jpg  2233395.jpg  2716993.jpg  3204977.jpg  3704103.jpg  660900.jpg\n",
            "1257104.jpg  1724717.jpg  2238681.jpg  2724554.jpg  320658.jpg\t 3707493.jpg  663014.jpg\n",
            "126345.jpg   172936.jpg   2238802.jpg  2738227.jpg  3209173.jpg  3716881.jpg  664545.jpg\n",
            "1264050.jpg  1736543.jpg  2254705.jpg  2748917.jpg  3223400.jpg  3724677.jpg  667075.jpg\n",
            "1264154.jpg  1736968.jpg  225990.jpg   2760475.jpg  3223601.jpg  3727036.jpg  669180.jpg\n",
            "1264858.jpg  1746626.jpg  2260231.jpg  2761427.jpg  3241894.jpg  3727491.jpg  669960.jpg\n",
            "127029.jpg   1752330.jpg  2268692.jpg  2765887.jpg  3245533.jpg  3736065.jpg  6709.jpg\n",
            "1289900.jpg  1761285.jpg  2271133.jpg  2768451.jpg  3245622.jpg  37384.jpg    674001.jpg\n",
            "1290362.jpg  176508.jpg   227576.jpg   2771149.jpg  3247009.jpg  3743286.jpg  676189.jpg\n",
            "1295457.jpg  1772039.jpg  2283057.jpg  2779040.jpg  3253588.jpg  3745515.jpg  681609.jpg\n",
            "1312841.jpg  1777107.jpg  2286639.jpg  2788312.jpg  3260624.jpg  3750472.jpg  6926.jpg\n",
            "1313316.jpg  1787505.jpg  2287136.jpg  2788759.jpg  326587.jpg\t 3752362.jpg  703556.jpg\n",
            "1324791.jpg  179293.jpg   2291292.jpg  2796102.jpg  32693.jpg\t 3766099.jpg  703909.jpg\n",
            "1327567.jpg  1816235.jpg  229323.jpg   280284.jpg   3271253.jpg  3770370.jpg  704316.jpg\n",
            "1327667.jpg  1822407.jpg  2300534.jpg  2807888.jpg  3274423.jpg  377190.jpg   714298.jpg\n",
            "1333055.jpg  1823263.jpg  2300845.jpg  2815172.jpg  3280453.jpg  3777020.jpg  720060.jpg\n",
            "1334054.jpg  1826066.jpg  231296.jpg   2818805.jpg  3298495.jpg  3777482.jpg  726083.jpg\n",
            "1335556.jpg  1828502.jpg  2315295.jpg  2823872.jpg  330182.jpg\t 3781152.jpg  728020.jpg\n",
            "1337814.jpg  1828969.jpg  2323132.jpg  2824680.jpg  3306627.jpg  3787809.jpg  732986.jpg\n",
            "1340977.jpg  1829045.jpg  2324994.jpg  2825100.jpg  3315727.jpg  3788729.jpg  734445.jpg\n",
            "1343209.jpg  1829088.jpg  2327701.jpg  2826987.jpg  331860.jpg\t 3790962.jpg  735441.jpg\n",
            "134369.jpg   1836332.jpg  2331076.jpg  2832499.jpg  332232.jpg\t 3792514.jpg  740090.jpg\n",
            "1344105.jpg  1839025.jpg  233964.jpg   2832960.jpg  3322909.jpg  379737.jpg   745189.jpg\n",
            "134598.jpg   1839481.jpg  2344227.jpg  285045.jpg   332557.jpg\t 3807440.jpg  752203.jpg\n",
            "1346387.jpg  183995.jpg   234626.jpg   285147.jpg   3326734.jpg  381162.jpg   75537.jpg\n",
            "1348047.jpg  184110.jpg   234704.jpg   2855315.jpg  3330642.jpg  3812039.jpg  756655.jpg\n",
            "1351372.jpg  184226.jpg   2357281.jpg  2856066.jpg  3333128.jpg  3829392.jpg  762210.jpg\n",
            "1362989.jpg  1846706.jpg  2361812.jpg  2859933.jpg  3333735.jpg  3830872.jpg  763690.jpg\n",
            "1367035.jpg  1849364.jpg  2365287.jpg  286219.jpg   3334973.jpg  38442.jpg    767442.jpg\n",
            "1371177.jpg  1849463.jpg  2374582.jpg  2862562.jpg  3335013.jpg  3855584.jpg  786409.jpg\n",
            "1375640.jpg  1849542.jpg  239025.jpg   2865730.jpg  3335267.jpg  3857508.jpg  80215.jpg\n",
            "1382427.jpg  1853564.jpg  2390628.jpg  2878151.jpg  3346787.jpg  386335.jpg   802348.jpg\n",
            "1392718.jpg  1869467.jpg  2392910.jpg  2880035.jpg  3364420.jpg  3867460.jpg  804684.jpg\n",
            "1395906.jpg  1870942.jpg  2394465.jpg  2881783.jpg  336637.jpg\t 3868959.jpg  812163.jpg\n",
            "1400760.jpg  187303.jpg   2395127.jpg  2884233.jpg  3372616.jpg  3869679.jpg  813486.jpg\n",
            "1403005.jpg  187521.jpg   2396291.jpg  2890573.jpg  3375959.jpg  388776.jpg   819027.jpg\n",
            "1404770.jpg  1888450.jpg  2400975.jpg  2893832.jpg  3381560.jpg  3890465.jpg  822550.jpg\n",
            "140832.jpg   1889336.jpg  2403776.jpg  2893892.jpg  3382936.jpg  3894222.jpg  823766.jpg\n",
            "141056.jpg   1907039.jpg  2403907.jpg  2907177.jpg  3386119.jpg  3895825.jpg  827764.jpg\n",
            "141135.jpg   1925230.jpg  240435.jpg   290850.jpg   3388717.jpg  389739.jpg   830007.jpg\n",
            "1413972.jpg  1927984.jpg  2404695.jpg  2909031.jpg  3389138.jpg  3916407.jpg  838344.jpg\n",
            "1421393.jpg  1930577.jpg  2404884.jpg  2910418.jpg  3393547.jpg  393349.jpg   853327.jpg\n",
            "1428947.jpg  1937872.jpg  2407770.jpg  2912290.jpg  3393688.jpg  393494.jpg   854150.jpg\n",
            "1433912.jpg  1941807.jpg  2412263.jpg  2916448.jpg  3396589.jpg  398288.jpg   864997.jpg\n",
            "143490.jpg   1942333.jpg  2425062.jpg  2916967.jpg  339891.jpg\t 40094.jpg    885571.jpg\n",
            "1445352.jpg  1945132.jpg  2425389.jpg  2927833.jpg  3417789.jpg  401094.jpg   907107.jpg\n",
            "1446401.jpg  1961025.jpg  2435316.jpg  2928643.jpg  3425047.jpg  401144.jpg   908261.jpg\n",
            "1453991.jpg  1966300.jpg  2437268.jpg  2929179.jpg  3434983.jpg  401651.jpg   910672.jpg\n",
            "1456841.jpg  1966967.jpg  2437843.jpg  2936477.jpg  3435358.jpg  405173.jpg   911803.jpg\n",
            "146833.jpg   1969596.jpg  2440131.jpg  2938012.jpg  3438319.jpg  405794.jpg   91432.jpg\n",
            "1476404.jpg  1971757.jpg  2443168.jpg  2938151.jpg  3444407.jpg  40762.jpg    914570.jpg\n",
            "1485083.jpg  1976160.jpg  2446660.jpg  2939678.jpg  345734.jpg\t 413325.jpg   922752.jpg\n",
            "1487113.jpg  1984271.jpg  2455944.jpg  2940544.jpg  3460673.jpg  417368.jpg   923772.jpg\n",
            "148916.jpg   1987213.jpg  2458401.jpg  2940621.jpg  3465327.jpg  4176.jpg     926414.jpg\n",
            "149087.jpg   1987639.jpg  2487306.jpg  2949079.jpg  3466159.jpg  42125.jpg    931356.jpg\n",
            "1493169.jpg  1995118.jpg  248841.jpg   295491.jpg   3469024.jpg  421476.jpg   937133.jpg\n",
            "149682.jpg   1995252.jpg  2489716.jpg  296268.jpg   3470083.jpg  421561.jpg   945791.jpg\n",
            "1508094.jpg  199754.jpg   2490489.jpg  2964732.jpg  3476564.jpg  438871.jpg   947877.jpg\n",
            "1512226.jpg  2002400.jpg  2495884.jpg  2965021.jpg  3478318.jpg  43924.jpg    952407.jpg\n",
            "1512347.jpg  2011264.jpg  2495903.jpg  2966859.jpg  3488748.jpg  440188.jpg   952437.jpg\n",
            "1524526.jpg  2012996.jpg  2499364.jpg  2977966.jpg  3492328.jpg  442757.jpg   955466.jpg\n",
            "1530833.jpg  2013535.jpg  2500292.jpg  2979061.jpg  3518960.jpg  443210.jpg   9555.jpg\n",
            "1539499.jpg  2017387.jpg  2509017.jpg  2983260.jpg  3522209.jpg  444064.jpg   961341.jpg\n",
            "1541672.jpg  2018173.jpg  250978.jpg   2984311.jpg  3524429.jpg  444709.jpg   97656.jpg\n",
            "1548239.jpg  2020613.jpg  2514432.jpg  2988960.jpg  3528458.jpg  447557.jpg   979110.jpg\n",
            "1550997.jpg  2032669.jpg  2526838.jpg  2989882.jpg  3531805.jpg  461187.jpg   980247.jpg\n",
            "1552530.jpg  203450.jpg   252858.jpg   2995169.jpg  3536023.jpg  461689.jpg   982988.jpg\n",
            "15580.jpg    2034628.jpg  2532239.jpg  2996324.jpg  3538682.jpg  465494.jpg   987732.jpg\n",
            "1559052.jpg  2036920.jpg  2534567.jpg  3000131.jpg  3540750.jpg  468384.jpg   996684.jpg\n",
            "1563266.jpg  2038418.jpg  2535431.jpg  3002350.jpg  354329.jpg\t 477486.jpg\n",
            "1567554.jpg  2042975.jpg  2535456.jpg  3007772.jpg  3547166.jpg  482022.jpg\n",
            "1575322.jpg  2045647.jpg  2538000.jpg  3008192.jpg  3553911.jpg  482465.jpg\n",
            "1588879.jpg  2050584.jpg  2543081.jpg  3009617.jpg  3556871.jpg  483788.jpg\n",
            "1594719.jpg  2052542.jpg  2544643.jpg  3011642.jpg  355715.jpg\t 493029.jpg\n",
            "1595869.jpg  2056627.jpg  2547797.jpg  3020591.jpg  356234.jpg\t 503589.jpg\n"
          ]
        }
      ]
    },
    {
      "cell_type": "code",
      "source": [
        "import os\n",
        "\n",
        "# Walk through pizza_steak directory and list number of files\n",
        "for dirpath, dirnames, filenames in os.walk(\"pizza_steak\"):\n",
        "  print(f\"There are {len(dirnames)} directories and {len(filenames)} images in '{dirpath}'.\")#used for the viewing of the files present inside the directory and all the things"
      ],
      "metadata": {
        "colab": {
          "base_uri": "https://localhost:8080/"
        },
        "id": "TuCKXMF94jJo",
        "outputId": "16242723-190e-410b-bb42-6e63d1833039"
      },
      "execution_count": 7,
      "outputs": [
        {
          "output_type": "stream",
          "name": "stdout",
          "text": [
            "There are 2 directories and 0 images in 'pizza_steak'.\n",
            "There are 2 directories and 0 images in 'pizza_steak/train'.\n",
            "There are 0 directories and 750 images in 'pizza_steak/train/pizza'.\n",
            "There are 0 directories and 750 images in 'pizza_steak/train/steak'.\n",
            "There are 2 directories and 0 images in 'pizza_steak/test'.\n",
            "There are 0 directories and 250 images in 'pizza_steak/test/pizza'.\n",
            "There are 0 directories and 250 images in 'pizza_steak/test/steak'.\n"
          ]
        }
      ]
    },
    {
      "cell_type": "code",
      "source": [
        "import pathlib\n",
        "import numpy as np"
      ],
      "metadata": {
        "id": "3S8mBgpN46JQ"
      },
      "execution_count": 10,
      "outputs": []
    },
    {
      "cell_type": "code",
      "source": [
        "data_dir=pathlib.Path(\"pizza_steak/train\")\n",
        "class_names = np.array(sorted([item.name for item in data_dir.glob('*')]))\n",
        "# created a list of class_names from the subdirectories\n",
        "print(class_names)\n"
      ],
      "metadata": {
        "colab": {
          "base_uri": "https://localhost:8080/"
        },
        "id": "0U-377nb5Jfe",
        "outputId": "78e6dd2a-c5cc-462a-a24b-6d73c94720bf"
      },
      "execution_count": 13,
      "outputs": [
        {
          "output_type": "stream",
          "name": "stdout",
          "text": [
            "['pizza' 'steak']\n"
          ]
        }
      ]
    },
    {
      "cell_type": "code",
      "source": [
        "#visualizing of image\n",
        "import matplotlib.pyplot as plt\n",
        "import matplotlib.image as mpimg\n",
        "import random\n"
      ],
      "metadata": {
        "id": "hIt-gV265b4o"
      },
      "execution_count": 15,
      "outputs": []
    },
    {
      "cell_type": "code",
      "source": [
        "def view_random_image(target_dir, target_class):\n",
        "  # Setup target directory (we'll view images from here)\n",
        "  target_folder1 = target_dir+target_class\n",
        "  random_image = random.sample(os.listdir(target_folder1), 1)\n",
        "  print(random_image)\n",
        "  target_folder1 = \"pizza_steak/train/\"\n",
        "  target_class = \"steak\"\n",
        "\n",
        "\n"
      ],
      "metadata": {
        "id": "n4BpSeeY7Bk2"
      },
      "execution_count": 36,
      "outputs": []
    },
    {
      "cell_type": "code",
      "source": [
        "  # Read in the image and plot it using matplotlib\n",
        "  img = mpimg.imread(target_folder1 + \"/\" + random_image[0])\n",
        "  plt.imshow(img)\n",
        "  plt.title(target_class)\n",
        "  plt.axis(\"off\");\n",
        "\n",
        "  print(f\"Image shape: {img.shape}\") # show the shape of the image\n",
        "\n",
        "  return img\n",
        "  img = view_random_image(target_dir=\"pizza_steak/train/\",\n",
        "                        target_class=\"steak\")\n"
      ],
      "metadata": {
        "colab": {
          "base_uri": "https://localhost:8080/",
          "height": 254
        },
        "id": "PvS_CXag5qyV",
        "outputId": "cca83ff8-746f-4db5-fd06-4aef15a70607"
      },
      "execution_count": 40,
      "outputs": [
        {
          "output_type": "error",
          "ename": "NameError",
          "evalue": "name 'target_folder1' is not defined",
          "traceback": [
            "\u001b[0;31m---------------------------------------------------------------------------\u001b[0m",
            "\u001b[0;31mNameError\u001b[0m                                 Traceback (most recent call last)",
            "\u001b[0;32m<ipython-input-40-08cf7148cd67>\u001b[0m in \u001b[0;36m<cell line: 2>\u001b[0;34m()\u001b[0m\n\u001b[1;32m      1\u001b[0m \u001b[0;31m# Read in the image and plot it using matplotlib\u001b[0m\u001b[0;34m\u001b[0m\u001b[0;34m\u001b[0m\u001b[0m\n\u001b[0;32m----> 2\u001b[0;31m \u001b[0mimg\u001b[0m \u001b[0;34m=\u001b[0m \u001b[0mmpimg\u001b[0m\u001b[0;34m.\u001b[0m\u001b[0mimread\u001b[0m\u001b[0;34m(\u001b[0m\u001b[0mtarget_folder1\u001b[0m \u001b[0;34m+\u001b[0m \u001b[0;34m\"/\"\u001b[0m \u001b[0;34m+\u001b[0m \u001b[0mrandom_image\u001b[0m\u001b[0;34m[\u001b[0m\u001b[0;36m0\u001b[0m\u001b[0;34m]\u001b[0m\u001b[0;34m)\u001b[0m\u001b[0;34m\u001b[0m\u001b[0;34m\u001b[0m\u001b[0m\n\u001b[0m\u001b[1;32m      3\u001b[0m \u001b[0mplt\u001b[0m\u001b[0;34m.\u001b[0m\u001b[0mimshow\u001b[0m\u001b[0;34m(\u001b[0m\u001b[0mimg\u001b[0m\u001b[0;34m)\u001b[0m\u001b[0;34m\u001b[0m\u001b[0;34m\u001b[0m\u001b[0m\n\u001b[1;32m      4\u001b[0m \u001b[0mplt\u001b[0m\u001b[0;34m.\u001b[0m\u001b[0mtitle\u001b[0m\u001b[0;34m(\u001b[0m\u001b[0mtarget_class\u001b[0m\u001b[0;34m)\u001b[0m\u001b[0;34m\u001b[0m\u001b[0;34m\u001b[0m\u001b[0m\n\u001b[1;32m      5\u001b[0m \u001b[0mplt\u001b[0m\u001b[0;34m.\u001b[0m\u001b[0maxis\u001b[0m\u001b[0;34m(\u001b[0m\u001b[0;34m\"off\"\u001b[0m\u001b[0;34m)\u001b[0m\u001b[0;34m;\u001b[0m\u001b[0;34m\u001b[0m\u001b[0;34m\u001b[0m\u001b[0m\n",
            "\u001b[0;31mNameError\u001b[0m: name 'target_folder1' is not defined"
          ]
        }
      ]
    },
    {
      "cell_type": "code",
      "source": [
        "tf.constant(img)"
      ],
      "metadata": {
        "colab": {
          "base_uri": "https://localhost:8080/",
          "height": 181
        },
        "id": "g94VS0yu9M14",
        "outputId": "6148460b-7a14-4225-c05b-7ff6e8a7904d"
      },
      "execution_count": 39,
      "outputs": [
        {
          "output_type": "error",
          "ename": "NameError",
          "evalue": "name 'img' is not defined",
          "traceback": [
            "\u001b[0;31m---------------------------------------------------------------------------\u001b[0m",
            "\u001b[0;31mNameError\u001b[0m                                 Traceback (most recent call last)",
            "\u001b[0;32m<ipython-input-39-77dba809a75f>\u001b[0m in \u001b[0;36m<cell line: 1>\u001b[0;34m()\u001b[0m\n\u001b[0;32m----> 1\u001b[0;31m \u001b[0mtf\u001b[0m\u001b[0;34m.\u001b[0m\u001b[0mconstant\u001b[0m\u001b[0;34m(\u001b[0m\u001b[0mimg\u001b[0m\u001b[0;34m)\u001b[0m\u001b[0;34m\u001b[0m\u001b[0;34m\u001b[0m\u001b[0m\n\u001b[0m",
            "\u001b[0;31mNameError\u001b[0m: name 'img' is not defined"
          ]
        }
      ]
    }
  ]
}